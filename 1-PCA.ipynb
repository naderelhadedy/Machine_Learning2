{
  "nbformat": 4,
  "nbformat_minor": 0,
  "metadata": {
    "colab": {
      "name": "NADER_ELHADEDY_PCA.ipynb",
      "provenance": [],
      "collapsed_sections": []
    },
    "kernelspec": {
      "name": "python3",
      "display_name": "Python 3"
    },
    "language_info": {
      "name": "python"
    }
  },
  "cells": [
    {
      "cell_type": "markdown",
      "metadata": {
        "id": "dFYHyPkbUbRO"
      },
      "source": [
        "# Loading packages"
      ]
    },
    {
      "cell_type": "code",
      "metadata": {
        "id": "VT_JM5XUwd9A"
      },
      "source": [
        "import numpy as np\n",
        "import pandas as pd\n",
        "import plotly.express as px\n",
        "import matplotlib.pyplot as plt\n",
        "from sklearn.decomposition import PCA"
      ],
      "execution_count": 1,
      "outputs": []
    },
    {
      "cell_type": "markdown",
      "metadata": {
        "id": "qQWnu0HsUiK1"
      },
      "source": [
        "# Reading data"
      ]
    },
    {
      "cell_type": "code",
      "metadata": {
        "colab": {
          "base_uri": "https://localhost:8080/"
        },
        "id": "2DGaEkIJwnre",
        "outputId": "8487f343-f390-4171-a2e9-7499617ece5c"
      },
      "source": [
        "data = np.load('data.npy')\n",
        "data.shape"
      ],
      "execution_count": 2,
      "outputs": [
        {
          "output_type": "execute_result",
          "data": {
            "text/plain": [
              "(500, 501)"
            ]
          },
          "metadata": {},
          "execution_count": 2
        }
      ]
    },
    {
      "cell_type": "code",
      "metadata": {
        "colab": {
          "base_uri": "https://localhost:8080/",
          "height": 256
        },
        "id": "13qr7O0UxPFr",
        "outputId": "6f2b7edd-d3ff-4674-fe74-9bb47fe31927"
      },
      "source": [
        "df = pd.DataFrame(data).add_prefix('col_')\n",
        "df.head()"
      ],
      "execution_count": 3,
      "outputs": [
        {
          "output_type": "execute_result",
          "data": {
            "text/html": [
              "<div>\n",
              "<style scoped>\n",
              "    .dataframe tbody tr th:only-of-type {\n",
              "        vertical-align: middle;\n",
              "    }\n",
              "\n",
              "    .dataframe tbody tr th {\n",
              "        vertical-align: top;\n",
              "    }\n",
              "\n",
              "    .dataframe thead th {\n",
              "        text-align: right;\n",
              "    }\n",
              "</style>\n",
              "<table border=\"1\" class=\"dataframe\">\n",
              "  <thead>\n",
              "    <tr style=\"text-align: right;\">\n",
              "      <th></th>\n",
              "      <th>col_0</th>\n",
              "      <th>col_1</th>\n",
              "      <th>col_2</th>\n",
              "      <th>col_3</th>\n",
              "      <th>col_4</th>\n",
              "      <th>col_5</th>\n",
              "      <th>col_6</th>\n",
              "      <th>col_7</th>\n",
              "      <th>col_8</th>\n",
              "      <th>col_9</th>\n",
              "      <th>col_10</th>\n",
              "      <th>col_11</th>\n",
              "      <th>col_12</th>\n",
              "      <th>col_13</th>\n",
              "      <th>col_14</th>\n",
              "      <th>col_15</th>\n",
              "      <th>col_16</th>\n",
              "      <th>col_17</th>\n",
              "      <th>col_18</th>\n",
              "      <th>col_19</th>\n",
              "      <th>col_20</th>\n",
              "      <th>col_21</th>\n",
              "      <th>col_22</th>\n",
              "      <th>col_23</th>\n",
              "      <th>col_24</th>\n",
              "      <th>col_25</th>\n",
              "      <th>col_26</th>\n",
              "      <th>col_27</th>\n",
              "      <th>col_28</th>\n",
              "      <th>col_29</th>\n",
              "      <th>col_30</th>\n",
              "      <th>col_31</th>\n",
              "      <th>col_32</th>\n",
              "      <th>col_33</th>\n",
              "      <th>col_34</th>\n",
              "      <th>col_35</th>\n",
              "      <th>col_36</th>\n",
              "      <th>col_37</th>\n",
              "      <th>col_38</th>\n",
              "      <th>col_39</th>\n",
              "      <th>...</th>\n",
              "      <th>col_461</th>\n",
              "      <th>col_462</th>\n",
              "      <th>col_463</th>\n",
              "      <th>col_464</th>\n",
              "      <th>col_465</th>\n",
              "      <th>col_466</th>\n",
              "      <th>col_467</th>\n",
              "      <th>col_468</th>\n",
              "      <th>col_469</th>\n",
              "      <th>col_470</th>\n",
              "      <th>col_471</th>\n",
              "      <th>col_472</th>\n",
              "      <th>col_473</th>\n",
              "      <th>col_474</th>\n",
              "      <th>col_475</th>\n",
              "      <th>col_476</th>\n",
              "      <th>col_477</th>\n",
              "      <th>col_478</th>\n",
              "      <th>col_479</th>\n",
              "      <th>col_480</th>\n",
              "      <th>col_481</th>\n",
              "      <th>col_482</th>\n",
              "      <th>col_483</th>\n",
              "      <th>col_484</th>\n",
              "      <th>col_485</th>\n",
              "      <th>col_486</th>\n",
              "      <th>col_487</th>\n",
              "      <th>col_488</th>\n",
              "      <th>col_489</th>\n",
              "      <th>col_490</th>\n",
              "      <th>col_491</th>\n",
              "      <th>col_492</th>\n",
              "      <th>col_493</th>\n",
              "      <th>col_494</th>\n",
              "      <th>col_495</th>\n",
              "      <th>col_496</th>\n",
              "      <th>col_497</th>\n",
              "      <th>col_498</th>\n",
              "      <th>col_499</th>\n",
              "      <th>col_500</th>\n",
              "    </tr>\n",
              "  </thead>\n",
              "  <tbody>\n",
              "    <tr>\n",
              "      <th>0</th>\n",
              "      <td>48.849809</td>\n",
              "      <td>4.176348</td>\n",
              "      <td>-3.773606</td>\n",
              "      <td>14.332706</td>\n",
              "      <td>12.046048</td>\n",
              "      <td>-44.043762</td>\n",
              "      <td>-4.523663</td>\n",
              "      <td>7.286550</td>\n",
              "      <td>82.346378</td>\n",
              "      <td>130.841936</td>\n",
              "      <td>-67.197226</td>\n",
              "      <td>-66.895912</td>\n",
              "      <td>-9.003750</td>\n",
              "      <td>10.455043</td>\n",
              "      <td>-10.312439</td>\n",
              "      <td>16.475337</td>\n",
              "      <td>21.633404</td>\n",
              "      <td>-4.174414</td>\n",
              "      <td>-105.022421</td>\n",
              "      <td>42.888536</td>\n",
              "      <td>-48.600938</td>\n",
              "      <td>-47.778143</td>\n",
              "      <td>36.081589</td>\n",
              "      <td>-5.533557</td>\n",
              "      <td>-26.140842</td>\n",
              "      <td>-0.380527</td>\n",
              "      <td>2.375570</td>\n",
              "      <td>-14.488561</td>\n",
              "      <td>-66.325693</td>\n",
              "      <td>-67.538063</td>\n",
              "      <td>9.250696</td>\n",
              "      <td>-19.506639</td>\n",
              "      <td>-26.820187</td>\n",
              "      <td>-73.089855</td>\n",
              "      <td>26.584719</td>\n",
              "      <td>-4.613742</td>\n",
              "      <td>146.614396</td>\n",
              "      <td>-3.322671</td>\n",
              "      <td>45.585918</td>\n",
              "      <td>-9.349355</td>\n",
              "      <td>...</td>\n",
              "      <td>1.831114</td>\n",
              "      <td>-78.807301</td>\n",
              "      <td>-73.568523</td>\n",
              "      <td>-60.916308</td>\n",
              "      <td>-102.938245</td>\n",
              "      <td>120.387969</td>\n",
              "      <td>46.943758</td>\n",
              "      <td>5.216651</td>\n",
              "      <td>19.768721</td>\n",
              "      <td>-2.415309</td>\n",
              "      <td>23.688321</td>\n",
              "      <td>-63.088456</td>\n",
              "      <td>14.976096</td>\n",
              "      <td>-10.529230</td>\n",
              "      <td>-5.518278</td>\n",
              "      <td>-8.193043</td>\n",
              "      <td>-95.133854</td>\n",
              "      <td>6.637824</td>\n",
              "      <td>-17.679528</td>\n",
              "      <td>-14.389814</td>\n",
              "      <td>48.487001</td>\n",
              "      <td>0.876960</td>\n",
              "      <td>78.336720</td>\n",
              "      <td>53.919511</td>\n",
              "      <td>-2.963803</td>\n",
              "      <td>2.498061</td>\n",
              "      <td>14.378232</td>\n",
              "      <td>65.640306</td>\n",
              "      <td>-5.968808</td>\n",
              "      <td>15.302832</td>\n",
              "      <td>99.374746</td>\n",
              "      <td>4.483384</td>\n",
              "      <td>-10.826797</td>\n",
              "      <td>-8.398092</td>\n",
              "      <td>-81.933254</td>\n",
              "      <td>249.537700</td>\n",
              "      <td>-6.501011</td>\n",
              "      <td>3.113201</td>\n",
              "      <td>3.808528</td>\n",
              "      <td>1.0</td>\n",
              "    </tr>\n",
              "    <tr>\n",
              "      <th>1</th>\n",
              "      <td>-100.695161</td>\n",
              "      <td>-1.841732</td>\n",
              "      <td>-5.260964</td>\n",
              "      <td>142.848735</td>\n",
              "      <td>10.207040</td>\n",
              "      <td>-44.349483</td>\n",
              "      <td>-0.740868</td>\n",
              "      <td>-2.301855</td>\n",
              "      <td>57.627342</td>\n",
              "      <td>111.028346</td>\n",
              "      <td>-45.886488</td>\n",
              "      <td>-95.914454</td>\n",
              "      <td>-4.236462</td>\n",
              "      <td>-6.628479</td>\n",
              "      <td>11.235391</td>\n",
              "      <td>-5.752995</td>\n",
              "      <td>-22.619123</td>\n",
              "      <td>-13.243217</td>\n",
              "      <td>-39.704420</td>\n",
              "      <td>73.566257</td>\n",
              "      <td>96.537846</td>\n",
              "      <td>-82.957051</td>\n",
              "      <td>-16.437821</td>\n",
              "      <td>-3.237429</td>\n",
              "      <td>43.305392</td>\n",
              "      <td>-44.367679</td>\n",
              "      <td>1.760053</td>\n",
              "      <td>-0.609329</td>\n",
              "      <td>55.270986</td>\n",
              "      <td>-22.710643</td>\n",
              "      <td>11.024388</td>\n",
              "      <td>-117.841243</td>\n",
              "      <td>88.356324</td>\n",
              "      <td>86.644300</td>\n",
              "      <td>41.411465</td>\n",
              "      <td>-27.134191</td>\n",
              "      <td>-42.148682</td>\n",
              "      <td>-5.206431</td>\n",
              "      <td>40.704690</td>\n",
              "      <td>13.579615</td>\n",
              "      <td>...</td>\n",
              "      <td>1.547921</td>\n",
              "      <td>89.949622</td>\n",
              "      <td>-92.413955</td>\n",
              "      <td>59.439665</td>\n",
              "      <td>-116.623264</td>\n",
              "      <td>-21.402690</td>\n",
              "      <td>77.050494</td>\n",
              "      <td>-79.100050</td>\n",
              "      <td>-56.075993</td>\n",
              "      <td>-5.012826</td>\n",
              "      <td>-16.024027</td>\n",
              "      <td>-92.864678</td>\n",
              "      <td>7.426999</td>\n",
              "      <td>-3.452538</td>\n",
              "      <td>10.622322</td>\n",
              "      <td>-3.059958</td>\n",
              "      <td>14.435619</td>\n",
              "      <td>-5.582253</td>\n",
              "      <td>2.185264</td>\n",
              "      <td>-5.764952</td>\n",
              "      <td>-130.330913</td>\n",
              "      <td>-13.223779</td>\n",
              "      <td>-17.925393</td>\n",
              "      <td>-18.134789</td>\n",
              "      <td>-16.439425</td>\n",
              "      <td>3.390954</td>\n",
              "      <td>-12.893330</td>\n",
              "      <td>13.810014</td>\n",
              "      <td>20.947826</td>\n",
              "      <td>-5.162721</td>\n",
              "      <td>-30.677183</td>\n",
              "      <td>-11.203065</td>\n",
              "      <td>70.652259</td>\n",
              "      <td>-6.298434</td>\n",
              "      <td>-14.262441</td>\n",
              "      <td>-57.844413</td>\n",
              "      <td>2.170105</td>\n",
              "      <td>-13.083572</td>\n",
              "      <td>-0.874872</td>\n",
              "      <td>0.0</td>\n",
              "    </tr>\n",
              "    <tr>\n",
              "      <th>2</th>\n",
              "      <td>47.470485</td>\n",
              "      <td>8.163793</td>\n",
              "      <td>9.260559</td>\n",
              "      <td>23.845557</td>\n",
              "      <td>3.538739</td>\n",
              "      <td>-111.231928</td>\n",
              "      <td>-2.347763</td>\n",
              "      <td>14.466949</td>\n",
              "      <td>-41.718359</td>\n",
              "      <td>34.576638</td>\n",
              "      <td>25.090220</td>\n",
              "      <td>101.254790</td>\n",
              "      <td>5.075251</td>\n",
              "      <td>21.056720</td>\n",
              "      <td>0.587450</td>\n",
              "      <td>-0.655337</td>\n",
              "      <td>-53.899185</td>\n",
              "      <td>4.995039</td>\n",
              "      <td>-36.862483</td>\n",
              "      <td>50.360349</td>\n",
              "      <td>103.450970</td>\n",
              "      <td>-51.495890</td>\n",
              "      <td>63.324480</td>\n",
              "      <td>5.388447</td>\n",
              "      <td>-13.027536</td>\n",
              "      <td>-30.561187</td>\n",
              "      <td>-2.886119</td>\n",
              "      <td>-0.232422</td>\n",
              "      <td>-20.440074</td>\n",
              "      <td>-6.477656</td>\n",
              "      <td>3.339389</td>\n",
              "      <td>64.937688</td>\n",
              "      <td>62.177690</td>\n",
              "      <td>22.263157</td>\n",
              "      <td>75.381076</td>\n",
              "      <td>68.780369</td>\n",
              "      <td>72.020293</td>\n",
              "      <td>-1.727713</td>\n",
              "      <td>-28.731209</td>\n",
              "      <td>-1.474264</td>\n",
              "      <td>...</td>\n",
              "      <td>-12.837674</td>\n",
              "      <td>-14.659569</td>\n",
              "      <td>-65.728899</td>\n",
              "      <td>39.537826</td>\n",
              "      <td>-23.651087</td>\n",
              "      <td>59.188575</td>\n",
              "      <td>76.800639</td>\n",
              "      <td>84.320374</td>\n",
              "      <td>122.747306</td>\n",
              "      <td>1.484951</td>\n",
              "      <td>55.005183</td>\n",
              "      <td>-10.603566</td>\n",
              "      <td>-0.520660</td>\n",
              "      <td>7.110766</td>\n",
              "      <td>-7.859443</td>\n",
              "      <td>-6.758850</td>\n",
              "      <td>45.335221</td>\n",
              "      <td>0.515654</td>\n",
              "      <td>-2.513863</td>\n",
              "      <td>-8.811635</td>\n",
              "      <td>19.205573</td>\n",
              "      <td>10.731143</td>\n",
              "      <td>27.402829</td>\n",
              "      <td>-29.668726</td>\n",
              "      <td>5.355970</td>\n",
              "      <td>14.805600</td>\n",
              "      <td>8.319097</td>\n",
              "      <td>73.446438</td>\n",
              "      <td>-11.059553</td>\n",
              "      <td>-13.100961</td>\n",
              "      <td>-48.231777</td>\n",
              "      <td>-1.158717</td>\n",
              "      <td>-124.610163</td>\n",
              "      <td>-18.188900</td>\n",
              "      <td>54.750699</td>\n",
              "      <td>14.131327</td>\n",
              "      <td>-3.468347</td>\n",
              "      <td>-3.908942</td>\n",
              "      <td>-1.271411</td>\n",
              "      <td>0.0</td>\n",
              "    </tr>\n",
              "    <tr>\n",
              "      <th>3</th>\n",
              "      <td>28.278859</td>\n",
              "      <td>1.874441</td>\n",
              "      <td>-9.080854</td>\n",
              "      <td>81.968400</td>\n",
              "      <td>1.358170</td>\n",
              "      <td>-15.454074</td>\n",
              "      <td>10.390666</td>\n",
              "      <td>1.629888</td>\n",
              "      <td>-36.309928</td>\n",
              "      <td>29.676771</td>\n",
              "      <td>59.354256</td>\n",
              "      <td>30.748248</td>\n",
              "      <td>-4.775007</td>\n",
              "      <td>-16.757506</td>\n",
              "      <td>4.996675</td>\n",
              "      <td>-3.076160</td>\n",
              "      <td>100.488528</td>\n",
              "      <td>1.356520</td>\n",
              "      <td>-124.361084</td>\n",
              "      <td>108.706096</td>\n",
              "      <td>-96.775415</td>\n",
              "      <td>45.565337</td>\n",
              "      <td>58.472191</td>\n",
              "      <td>-8.960434</td>\n",
              "      <td>17.348704</td>\n",
              "      <td>-123.951667</td>\n",
              "      <td>3.486467</td>\n",
              "      <td>-3.818223</td>\n",
              "      <td>12.593315</td>\n",
              "      <td>59.013284</td>\n",
              "      <td>3.296073</td>\n",
              "      <td>-107.799761</td>\n",
              "      <td>-66.078557</td>\n",
              "      <td>-9.327744</td>\n",
              "      <td>5.311183</td>\n",
              "      <td>109.461950</td>\n",
              "      <td>-58.737224</td>\n",
              "      <td>11.472385</td>\n",
              "      <td>-103.555793</td>\n",
              "      <td>13.643206</td>\n",
              "      <td>...</td>\n",
              "      <td>-8.266802</td>\n",
              "      <td>-18.838371</td>\n",
              "      <td>-83.820133</td>\n",
              "      <td>-91.126455</td>\n",
              "      <td>23.813530</td>\n",
              "      <td>-97.923714</td>\n",
              "      <td>-22.307834</td>\n",
              "      <td>50.636443</td>\n",
              "      <td>4.915176</td>\n",
              "      <td>-13.691585</td>\n",
              "      <td>-3.863383</td>\n",
              "      <td>-24.088782</td>\n",
              "      <td>-3.106662</td>\n",
              "      <td>-6.950200</td>\n",
              "      <td>15.215145</td>\n",
              "      <td>8.876854</td>\n",
              "      <td>157.374283</td>\n",
              "      <td>-7.477549</td>\n",
              "      <td>4.915081</td>\n",
              "      <td>-9.812416</td>\n",
              "      <td>46.945347</td>\n",
              "      <td>-5.664155</td>\n",
              "      <td>108.222160</td>\n",
              "      <td>-111.212656</td>\n",
              "      <td>-5.370940</td>\n",
              "      <td>11.574607</td>\n",
              "      <td>8.292366</td>\n",
              "      <td>5.102735</td>\n",
              "      <td>-1.694511</td>\n",
              "      <td>-1.390942</td>\n",
              "      <td>-51.322495</td>\n",
              "      <td>-5.037019</td>\n",
              "      <td>-24.382014</td>\n",
              "      <td>9.627702</td>\n",
              "      <td>-14.988505</td>\n",
              "      <td>46.078157</td>\n",
              "      <td>-2.475602</td>\n",
              "      <td>-16.206060</td>\n",
              "      <td>5.107095</td>\n",
              "      <td>0.0</td>\n",
              "    </tr>\n",
              "    <tr>\n",
              "      <th>4</th>\n",
              "      <td>37.098115</td>\n",
              "      <td>-19.084087</td>\n",
              "      <td>-11.064898</td>\n",
              "      <td>26.951694</td>\n",
              "      <td>-2.900684</td>\n",
              "      <td>-118.696407</td>\n",
              "      <td>-6.633285</td>\n",
              "      <td>24.076702</td>\n",
              "      <td>28.569131</td>\n",
              "      <td>-65.157177</td>\n",
              "      <td>-143.448585</td>\n",
              "      <td>-80.300410</td>\n",
              "      <td>5.582796</td>\n",
              "      <td>5.295093</td>\n",
              "      <td>-4.247170</td>\n",
              "      <td>1.820549</td>\n",
              "      <td>110.081255</td>\n",
              "      <td>3.823852</td>\n",
              "      <td>-69.171546</td>\n",
              "      <td>25.639582</td>\n",
              "      <td>29.532557</td>\n",
              "      <td>95.961345</td>\n",
              "      <td>-12.871144</td>\n",
              "      <td>-11.094830</td>\n",
              "      <td>133.374396</td>\n",
              "      <td>-69.529210</td>\n",
              "      <td>-6.246965</td>\n",
              "      <td>-22.476552</td>\n",
              "      <td>74.316245</td>\n",
              "      <td>-10.724563</td>\n",
              "      <td>-3.035972</td>\n",
              "      <td>-39.307170</td>\n",
              "      <td>-11.043762</td>\n",
              "      <td>61.765400</td>\n",
              "      <td>21.153118</td>\n",
              "      <td>-20.301630</td>\n",
              "      <td>-90.522478</td>\n",
              "      <td>13.930796</td>\n",
              "      <td>108.507929</td>\n",
              "      <td>-4.801143</td>\n",
              "      <td>...</td>\n",
              "      <td>-6.268496</td>\n",
              "      <td>-42.689010</td>\n",
              "      <td>42.416268</td>\n",
              "      <td>16.724010</td>\n",
              "      <td>10.190346</td>\n",
              "      <td>55.150984</td>\n",
              "      <td>42.452971</td>\n",
              "      <td>27.897236</td>\n",
              "      <td>22.934173</td>\n",
              "      <td>2.811130</td>\n",
              "      <td>-80.464605</td>\n",
              "      <td>-87.242003</td>\n",
              "      <td>5.454941</td>\n",
              "      <td>-3.131464</td>\n",
              "      <td>9.078985</td>\n",
              "      <td>9.130042</td>\n",
              "      <td>-20.415020</td>\n",
              "      <td>-4.419940</td>\n",
              "      <td>-7.482702</td>\n",
              "      <td>-7.591259</td>\n",
              "      <td>62.437288</td>\n",
              "      <td>10.256380</td>\n",
              "      <td>54.747277</td>\n",
              "      <td>82.841888</td>\n",
              "      <td>3.306229</td>\n",
              "      <td>-7.562490</td>\n",
              "      <td>-7.834812</td>\n",
              "      <td>2.049916</td>\n",
              "      <td>-7.044007</td>\n",
              "      <td>-11.771999</td>\n",
              "      <td>-97.389320</td>\n",
              "      <td>-6.043917</td>\n",
              "      <td>21.470686</td>\n",
              "      <td>0.722565</td>\n",
              "      <td>26.582245</td>\n",
              "      <td>97.348193</td>\n",
              "      <td>-10.260366</td>\n",
              "      <td>11.430567</td>\n",
              "      <td>-10.994911</td>\n",
              "      <td>1.0</td>\n",
              "    </tr>\n",
              "  </tbody>\n",
              "</table>\n",
              "<p>5 rows × 501 columns</p>\n",
              "</div>"
            ],
            "text/plain": [
              "        col_0      col_1      col_2  ...    col_498    col_499  col_500\n",
              "0   48.849809   4.176348  -3.773606  ...   3.113201   3.808528      1.0\n",
              "1 -100.695161  -1.841732  -5.260964  ... -13.083572  -0.874872      0.0\n",
              "2   47.470485   8.163793   9.260559  ...  -3.908942  -1.271411      0.0\n",
              "3   28.278859   1.874441  -9.080854  ... -16.206060   5.107095      0.0\n",
              "4   37.098115 -19.084087 -11.064898  ...  11.430567 -10.994911      1.0\n",
              "\n",
              "[5 rows x 501 columns]"
            ]
          },
          "metadata": {},
          "execution_count": 3
        }
      ]
    },
    {
      "cell_type": "code",
      "metadata": {
        "id": "n8c017F4x5cP"
      },
      "source": [
        "X = df.iloc[:,:500]\n",
        "y = df.iloc[:,-1]"
      ],
      "execution_count": 4,
      "outputs": []
    },
    {
      "cell_type": "code",
      "metadata": {
        "colab": {
          "base_uri": "https://localhost:8080/"
        },
        "id": "YsIkt-RNy85G",
        "outputId": "e2b45254-522a-47c7-dc4d-c4e400a909e2"
      },
      "source": [
        "print('X shape:', X.shape)\n",
        "print('y shape:', y.shape)"
      ],
      "execution_count": 5,
      "outputs": [
        {
          "output_type": "stream",
          "name": "stdout",
          "text": [
            "X shape: (500, 500)\n",
            "y shape: (500,)\n"
          ]
        }
      ]
    },
    {
      "cell_type": "markdown",
      "metadata": {
        "id": "7PQMAyk1Un-_"
      },
      "source": [
        "# Construct PCA with parameter"
      ]
    },
    {
      "cell_type": "code",
      "metadata": {
        "colab": {
          "base_uri": "https://localhost:8080/"
        },
        "id": "XLEhy0EkzE6I",
        "outputId": "c3ad4ae3-e70a-4dfb-b051-ff2d920d0dd7"
      },
      "source": [
        "pca = PCA(0.95)\n",
        "X_reduced = pca.fit_transform(X)\n",
        "X_reduced.shape"
      ],
      "execution_count": 6,
      "outputs": [
        {
          "output_type": "execute_result",
          "data": {
            "text/plain": [
              "(500, 111)"
            ]
          },
          "metadata": {},
          "execution_count": 6
        }
      ]
    },
    {
      "cell_type": "code",
      "metadata": {
        "colab": {
          "base_uri": "https://localhost:8080/"
        },
        "id": "hUY-d7o2zqg5",
        "outputId": "86ded24f-b185-4256-a4df-fb105598dffa"
      },
      "source": [
        "pca.get_params"
      ],
      "execution_count": 7,
      "outputs": [
        {
          "output_type": "execute_result",
          "data": {
            "text/plain": [
              "<bound method BaseEstimator.get_params of PCA(copy=True, iterated_power='auto', n_components=0.95, random_state=None,\n",
              "    svd_solver='auto', tol=0.0, whiten=False)>"
            ]
          },
          "metadata": {},
          "execution_count": 7
        }
      ]
    },
    {
      "cell_type": "code",
      "metadata": {
        "colab": {
          "base_uri": "https://localhost:8080/"
        },
        "id": "Va8ItVGl2UXO",
        "outputId": "1cdd2960-6808-4ba5-b7fb-b0e456b26e39"
      },
      "source": [
        "pca.n_components_"
      ],
      "execution_count": 8,
      "outputs": [
        {
          "output_type": "execute_result",
          "data": {
            "text/plain": [
              "111"
            ]
          },
          "metadata": {},
          "execution_count": 8
        }
      ]
    },
    {
      "cell_type": "code",
      "metadata": {
        "colab": {
          "base_uri": "https://localhost:8080/"
        },
        "id": "0HsjMP1A21Sv",
        "outputId": "3a9f5f4d-758b-408f-ebb0-674c8db94fdd"
      },
      "source": [
        "pca.singular_values_.shape"
      ],
      "execution_count": 9,
      "outputs": [
        {
          "output_type": "execute_result",
          "data": {
            "text/plain": [
              "(111,)"
            ]
          },
          "metadata": {},
          "execution_count": 9
        }
      ]
    },
    {
      "cell_type": "code",
      "metadata": {
        "colab": {
          "base_uri": "https://localhost:8080/"
        },
        "id": "798nSozwK0xC",
        "outputId": "c2b1dae2-7c07-4ba5-bbfe-b813445875a9"
      },
      "source": [
        "pca.components_.T.shape"
      ],
      "execution_count": 10,
      "outputs": [
        {
          "output_type": "execute_result",
          "data": {
            "text/plain": [
              "(500, 111)"
            ]
          },
          "metadata": {},
          "execution_count": 10
        }
      ]
    },
    {
      "cell_type": "code",
      "metadata": {
        "colab": {
          "base_uri": "https://localhost:8080/"
        },
        "id": "iZ5E8jG824kx",
        "outputId": "a74160d3-930d-494d-85c9-4cdfc0cde8ca"
      },
      "source": [
        "pca.singular_values_"
      ],
      "execution_count": 11,
      "outputs": [
        {
          "output_type": "execute_result",
          "data": {
            "text/plain": [
              "array([7262.98783628, 4381.08702523, 4358.04818196, 4170.33305628,\n",
              "       4118.1799965 , 4033.98564431, 3920.06304998, 3870.09970736,\n",
              "       3812.35237241, 3733.84041826, 3641.37309789, 3587.93609273,\n",
              "       3569.52470931, 3483.26417526, 3381.87543289, 3351.16443429,\n",
              "       3308.26722888, 3250.47081944, 3223.25443336, 3176.96160986,\n",
              "       3156.80618414, 3110.99766752, 3087.2362416 , 3032.33900884,\n",
              "       2980.62453384, 2954.39986527, 2912.32253117, 2889.97462916,\n",
              "       2859.14934184, 2809.49519004, 2769.94781944, 2744.92874963,\n",
              "       2723.6868696 , 2685.10370447, 2634.25592426, 2618.10187307,\n",
              "       2576.06278605, 2518.18673073, 2496.03300039, 2477.18316716,\n",
              "       2453.70651904, 2420.73334507, 2405.06861878, 2384.17416266,\n",
              "       2356.09173714, 2286.90842133, 2274.05168484, 2237.42783981,\n",
              "       2215.38183568, 2201.66779181, 2158.29699425, 2149.12364208,\n",
              "       2130.85654259, 2109.39136999, 2083.480016  , 2069.29253112,\n",
              "       2039.78741378, 2018.16635686, 1973.8612028 , 1958.44221273,\n",
              "       1935.68392632, 1927.99422826, 1877.21350954, 1872.0138917 ,\n",
              "       1848.02786431, 1841.06873844, 1815.28632246, 1803.73890612,\n",
              "       1777.66155206, 1754.41879303, 1744.9848606 , 1716.80935098,\n",
              "       1693.6710789 , 1681.01427346, 1670.47117023, 1654.26888442,\n",
              "       1626.54723397, 1621.12322596, 1595.18790124, 1588.22136446,\n",
              "       1541.01094015, 1529.17574041, 1513.02328488, 1476.57774271,\n",
              "       1471.38324926, 1456.31970241, 1425.10287535, 1417.81538954,\n",
              "       1386.1396144 , 1381.64363774, 1366.41195599, 1363.9402412 ,\n",
              "       1339.6699612 , 1321.1138201 , 1316.66829383, 1298.64234661,\n",
              "       1261.30407755, 1250.88705473, 1247.99101589, 1234.12567879,\n",
              "       1226.12187475, 1197.17947159, 1175.19919701, 1164.09852703,\n",
              "       1140.34254957, 1136.94347144, 1121.82576927, 1100.46826343,\n",
              "       1089.33978764, 1082.8285382 , 1068.13986168])"
            ]
          },
          "metadata": {},
          "execution_count": 11
        }
      ]
    },
    {
      "cell_type": "code",
      "metadata": {
        "colab": {
          "base_uri": "https://localhost:8080/"
        },
        "id": "zpD648Bz3TOm",
        "outputId": "b6f06aca-35ff-4208-ab98-ff783eb4f726"
      },
      "source": [
        "pca.explained_variance_ratio_.sum()"
      ],
      "execution_count": 12,
      "outputs": [
        {
          "output_type": "execute_result",
          "data": {
            "text/plain": [
              "0.9501890519849235"
            ]
          },
          "metadata": {},
          "execution_count": 12
        }
      ]
    },
    {
      "cell_type": "code",
      "metadata": {
        "colab": {
          "base_uri": "https://localhost:8080/"
        },
        "id": "eTld7t9ZJmuI",
        "outputId": "4419703c-84b5-44b1-9cd4-2f8834ca3afb"
      },
      "source": [
        "pca.explained_variance_ratio_.cumsum()"
      ],
      "execution_count": 13,
      "outputs": [
        {
          "output_type": "execute_result",
          "data": {
            "text/plain": [
              "array([0.07317687, 0.09980294, 0.1261497 , 0.15027567, 0.17380198,\n",
              "       0.19637616, 0.21769331, 0.23847054, 0.25863234, 0.27797226,\n",
              "       0.29636615, 0.31422414, 0.33189933, 0.34873057, 0.36459624,\n",
              "       0.38017506, 0.3953576 , 0.41001428, 0.42442655, 0.43842782,\n",
              "       0.45225199, 0.46567786, 0.47889943, 0.49165496, 0.50397914,\n",
              "       0.5160874 , 0.52785322, 0.53943916, 0.55077926, 0.5617289 ,\n",
              "       0.57237244, 0.58282459, 0.59311559, 0.60311709, 0.61274339,\n",
              "       0.62225198, 0.63145766, 0.64025435, 0.64889694, 0.65740948,\n",
              "       0.66576145, 0.67389045, 0.68191458, 0.6897999 , 0.69750055,\n",
              "       0.70475561, 0.71192932, 0.71887382, 0.72568215, 0.73240645,\n",
              "       0.73886843, 0.74527559, 0.7515743 , 0.75774675, 0.76376849,\n",
              "       0.7697085 , 0.77548032, 0.78113043, 0.78653519, 0.79185585,\n",
              "       0.79705356, 0.80221005, 0.8070985 , 0.8119599 , 0.81669752,\n",
              "       0.82139952, 0.82597076, 0.83048402, 0.83486772, 0.83913755,\n",
              "       0.84336157, 0.84745029, 0.85142954, 0.85534954, 0.85922052,\n",
              "       0.86301678, 0.86668687, 0.87033252, 0.87386246, 0.87736163,\n",
              "       0.88065587, 0.8838997 , 0.88707536, 0.89009987, 0.89310315,\n",
              "       0.89604524, 0.89886256, 0.90165114, 0.9043165 , 0.90696461,\n",
              "       0.90955465, 0.91213533, 0.91462498, 0.91704614, 0.91945104,\n",
              "       0.92179053, 0.92399743, 0.92616803, 0.92832859, 0.93044141,\n",
              "       0.93252691, 0.93451512, 0.93643099, 0.93831084, 0.94011474,\n",
              "       0.94190791, 0.94365371, 0.94533366, 0.94697982, 0.94860635,\n",
              "       0.95018905])"
            ]
          },
          "metadata": {},
          "execution_count": 13
        }
      ]
    },
    {
      "cell_type": "code",
      "metadata": {
        "colab": {
          "base_uri": "https://localhost:8080/"
        },
        "id": "xzE0-Ff73klO",
        "outputId": "18860814-7aa4-4107-a58c-de5328c7ed8f"
      },
      "source": [
        "pca.explained_variance_ratio_"
      ],
      "execution_count": 14,
      "outputs": [
        {
          "output_type": "execute_result",
          "data": {
            "text/plain": [
              "array([0.07317687, 0.02662606, 0.02634676, 0.02412597, 0.02352631,\n",
              "       0.02257418, 0.02131716, 0.02077722, 0.0201618 , 0.01933992,\n",
              "       0.01839389, 0.01785799, 0.01767519, 0.01683124, 0.01586567,\n",
              "       0.01557882, 0.01518254, 0.01465669, 0.01441227, 0.01400126,\n",
              "       0.01382417, 0.01342587, 0.01322157, 0.01275554, 0.01232417,\n",
              "       0.01210826, 0.01176582, 0.01158594, 0.0113401 , 0.01094964,\n",
              "       0.01064355, 0.01045214, 0.010291  , 0.0100015 , 0.00962629,\n",
              "       0.00950859, 0.00920568, 0.00879669, 0.00864259, 0.00851255,\n",
              "       0.00835196, 0.008129  , 0.00802413, 0.00788532, 0.00770065,\n",
              "       0.00725506, 0.00717371, 0.0069445 , 0.00680833, 0.0067243 ,\n",
              "       0.00646198, 0.00640717, 0.00629871, 0.00617245, 0.00602174,\n",
              "       0.00594001, 0.00577182, 0.00565011, 0.00540476, 0.00532065,\n",
              "       0.00519771, 0.0051565 , 0.00488844, 0.0048614 , 0.00473762,\n",
              "       0.00470201, 0.00457123, 0.00451326, 0.00438371, 0.00426982,\n",
              "       0.00422403, 0.00408872, 0.00397925, 0.00392   , 0.00387098,\n",
              "       0.00379626, 0.00367009, 0.00364565, 0.00352994, 0.00349917,\n",
              "       0.00329424, 0.00324383, 0.00317566, 0.00302452, 0.00300327,\n",
              "       0.00294209, 0.00281732, 0.00278858, 0.00266537, 0.00264811,\n",
              "       0.00259004, 0.00258068, 0.00248965, 0.00242116, 0.00240489,\n",
              "       0.0023395 , 0.0022069 , 0.0021706 , 0.00216056, 0.00211282,\n",
              "       0.0020855 , 0.00198821, 0.00191587, 0.00187985, 0.00180391,\n",
              "       0.00179317, 0.0017458 , 0.00167996, 0.00164615, 0.00162653,\n",
              "       0.0015827 ])"
            ]
          },
          "metadata": {},
          "execution_count": 14
        }
      ]
    },
    {
      "cell_type": "markdown",
      "metadata": {
        "id": "idk1cjATKBzI"
      },
      "source": [
        "---"
      ]
    },
    {
      "cell_type": "markdown",
      "metadata": {
        "id": "tz4N5fB-U3cP"
      },
      "source": [
        "# Construct PCA without parameter"
      ]
    },
    {
      "cell_type": "code",
      "metadata": {
        "colab": {
          "base_uri": "https://localhost:8080/"
        },
        "id": "_yy5X294KDRy",
        "outputId": "1f015de1-c1d2-4aff-b9f3-719b575a2cba"
      },
      "source": [
        "pca2 = PCA()\n",
        "pca2.fit(X)"
      ],
      "execution_count": 15,
      "outputs": [
        {
          "output_type": "execute_result",
          "data": {
            "text/plain": [
              "PCA(copy=True, iterated_power='auto', n_components=None, random_state=None,\n",
              "    svd_solver='auto', tol=0.0, whiten=False)"
            ]
          },
          "metadata": {},
          "execution_count": 15
        }
      ]
    },
    {
      "cell_type": "code",
      "metadata": {
        "colab": {
          "base_uri": "https://localhost:8080/"
        },
        "id": "LzTeaIB3LmDz",
        "outputId": "c1a2ca04-f71a-46f6-c2f7-6acb15427e30"
      },
      "source": [
        "cumsum = np.cumsum(pca2.explained_variance_ratio_)\n",
        "d = np.argmax(cumsum >= 0.95) + 1\n",
        "d"
      ],
      "execution_count": 16,
      "outputs": [
        {
          "output_type": "execute_result",
          "data": {
            "text/plain": [
              "111"
            ]
          },
          "metadata": {},
          "execution_count": 16
        }
      ]
    },
    {
      "cell_type": "code",
      "metadata": {
        "colab": {
          "base_uri": "https://localhost:8080/"
        },
        "id": "oHouQz9TKRsv",
        "outputId": "f2103707-721e-4996-a344-c6518c7ff6e2"
      },
      "source": [
        "pca2.explained_variance_ratio_.sum()"
      ],
      "execution_count": 17,
      "outputs": [
        {
          "output_type": "execute_result",
          "data": {
            "text/plain": [
              "1.0"
            ]
          },
          "metadata": {},
          "execution_count": 17
        }
      ]
    },
    {
      "cell_type": "code",
      "metadata": {
        "id": "Sof8SGbUMA9t"
      },
      "source": [
        "x_ax = np.linspace(1, 500, 500)\n",
        "y_ax = pca2.explained_variance_ratio_.cumsum()"
      ],
      "execution_count": 18,
      "outputs": []
    },
    {
      "cell_type": "code",
      "metadata": {
        "colab": {
          "base_uri": "https://localhost:8080/",
          "height": 542
        },
        "id": "sSbVOQsfN7yn",
        "outputId": "64b899e8-30e4-4b65-8fd6-eea078e465c7"
      },
      "source": [
        "fig = px.line(x=x_ax, y=y_ax, title='Variance vs Dimensions', labels={'x':'Dimensions', 'y':'Explained Variance'})\n",
        "fig.show()"
      ],
      "execution_count": 19,
      "outputs": [
        {
          "output_type": "display_data",
          "data": {
            "text/html": [
              "<html>\n",
              "<head><meta charset=\"utf-8\" /></head>\n",
              "<body>\n",
              "    <div>\n",
              "            <script src=\"https://cdnjs.cloudflare.com/ajax/libs/mathjax/2.7.5/MathJax.js?config=TeX-AMS-MML_SVG\"></script><script type=\"text/javascript\">if (window.MathJax) {MathJax.Hub.Config({SVG: {font: \"STIX-Web\"}});}</script>\n",
              "                <script type=\"text/javascript\">window.PlotlyConfig = {MathJaxConfig: 'local'};</script>\n",
              "        <script src=\"https://cdn.plot.ly/plotly-latest.min.js\"></script>    \n",
              "            <div id=\"93088722-d992-4a1d-b1bd-b26e23155279\" class=\"plotly-graph-div\" style=\"height:525px; width:100%;\"></div>\n",
              "            <script type=\"text/javascript\">\n",
              "                \n",
              "                    window.PLOTLYENV=window.PLOTLYENV || {};\n",
              "                    \n",
              "                if (document.getElementById(\"93088722-d992-4a1d-b1bd-b26e23155279\")) {\n",
              "                    Plotly.newPlot(\n",
              "                        '93088722-d992-4a1d-b1bd-b26e23155279',\n",
              "                        [{\"hoverlabel\": {\"namelength\": 0}, \"hovertemplate\": \"Dimensions=%{x}<br>Explained Variance=%{y}\", \"legendgroup\": \"\", \"line\": {\"color\": \"#636efa\", \"dash\": \"solid\"}, \"mode\": \"lines\", \"name\": \"\", \"showlegend\": false, \"type\": \"scatter\", \"x\": [1.0, 2.0, 3.0, 4.0, 5.0, 6.0, 7.0, 8.0, 9.0, 10.0, 11.0, 12.0, 13.0, 14.0, 15.0, 16.0, 17.0, 18.0, 19.0, 20.0, 21.0, 22.0, 23.0, 24.0, 25.0, 26.0, 27.0, 28.0, 29.0, 30.0, 31.0, 32.0, 33.0, 34.0, 35.0, 36.0, 37.0, 38.0, 39.0, 40.0, 41.0, 42.0, 43.0, 44.0, 45.0, 46.0, 47.0, 48.0, 49.0, 50.0, 51.0, 52.0, 53.0, 54.0, 55.0, 56.0, 57.0, 58.0, 59.0, 60.0, 61.0, 62.0, 63.0, 64.0, 65.0, 66.0, 67.0, 68.0, 69.0, 70.0, 71.0, 72.0, 73.0, 74.0, 75.0, 76.0, 77.0, 78.0, 79.0, 80.0, 81.0, 82.0, 83.0, 84.0, 85.0, 86.0, 87.0, 88.0, 89.0, 90.0, 91.0, 92.0, 93.0, 94.0, 95.0, 96.0, 97.0, 98.0, 99.0, 100.0, 101.0, 102.0, 103.0, 104.0, 105.0, 106.0, 107.0, 108.0, 109.0, 110.0, 111.0, 112.0, 113.0, 114.0, 115.0, 116.0, 117.0, 118.0, 119.0, 120.0, 121.0, 122.0, 123.0, 124.0, 125.0, 126.0, 127.0, 128.0, 129.0, 130.0, 131.0, 132.0, 133.0, 134.0, 135.0, 136.0, 137.0, 138.0, 139.0, 140.0, 141.0, 142.0, 143.0, 144.0, 145.0, 146.0, 147.0, 148.0, 149.0, 150.0, 151.0, 152.0, 153.0, 154.0, 155.0, 156.0, 157.0, 158.0, 159.0, 160.0, 161.0, 162.0, 163.0, 164.0, 165.0, 166.0, 167.0, 168.0, 169.0, 170.0, 171.0, 172.0, 173.0, 174.0, 175.0, 176.0, 177.0, 178.0, 179.0, 180.0, 181.0, 182.0, 183.0, 184.0, 185.0, 186.0, 187.0, 188.0, 189.0, 190.0, 191.0, 192.0, 193.0, 194.0, 195.0, 196.0, 197.0, 198.0, 199.0, 200.0, 201.0, 202.0, 203.0, 204.0, 205.0, 206.0, 207.0, 208.0, 209.0, 210.0, 211.0, 212.0, 213.0, 214.0, 215.0, 216.0, 217.0, 218.0, 219.0, 220.0, 221.0, 222.0, 223.0, 224.0, 225.0, 226.0, 227.0, 228.0, 229.0, 230.0, 231.0, 232.0, 233.0, 234.0, 235.0, 236.0, 237.0, 238.0, 239.0, 240.0, 241.0, 242.0, 243.0, 244.0, 245.0, 246.0, 247.0, 248.0, 249.0, 250.0, 251.0, 252.0, 253.0, 254.0, 255.0, 256.0, 257.0, 258.0, 259.0, 260.0, 261.0, 262.0, 263.0, 264.0, 265.0, 266.0, 267.0, 268.0, 269.0, 270.0, 271.0, 272.0, 273.0, 274.0, 275.0, 276.0, 277.0, 278.0, 279.0, 280.0, 281.0, 282.0, 283.0, 284.0, 285.0, 286.0, 287.0, 288.0, 289.0, 290.0, 291.0, 292.0, 293.0, 294.0, 295.0, 296.0, 297.0, 298.0, 299.0, 300.0, 301.0, 302.0, 303.0, 304.0, 305.0, 306.0, 307.0, 308.0, 309.0, 310.0, 311.0, 312.0, 313.0, 314.0, 315.0, 316.0, 317.0, 318.0, 319.0, 320.0, 321.0, 322.0, 323.0, 324.0, 325.0, 326.0, 327.0, 328.0, 329.0, 330.0, 331.0, 332.0, 333.0, 334.0, 335.0, 336.0, 337.0, 338.0, 339.0, 340.0, 341.0, 342.0, 343.0, 344.0, 345.0, 346.0, 347.0, 348.0, 349.0, 350.0, 351.0, 352.0, 353.0, 354.0, 355.0, 356.0, 357.0, 358.0, 359.0, 360.0, 361.0, 362.0, 363.0, 364.0, 365.0, 366.0, 367.0, 368.0, 369.0, 370.0, 371.0, 372.0, 373.0, 374.0, 375.0, 376.0, 377.0, 378.0, 379.0, 380.0, 381.0, 382.0, 383.0, 384.0, 385.0, 386.0, 387.0, 388.0, 389.0, 390.0, 391.0, 392.0, 393.0, 394.0, 395.0, 396.0, 397.0, 398.0, 399.0, 400.0, 401.0, 402.0, 403.0, 404.0, 405.0, 406.0, 407.0, 408.0, 409.0, 410.0, 411.0, 412.0, 413.0, 414.0, 415.0, 416.0, 417.0, 418.0, 419.0, 420.0, 421.0, 422.0, 423.0, 424.0, 425.0, 426.0, 427.0, 428.0, 429.0, 430.0, 431.0, 432.0, 433.0, 434.0, 435.0, 436.0, 437.0, 438.0, 439.0, 440.0, 441.0, 442.0, 443.0, 444.0, 445.0, 446.0, 447.0, 448.0, 449.0, 450.0, 451.0, 452.0, 453.0, 454.0, 455.0, 456.0, 457.0, 458.0, 459.0, 460.0, 461.0, 462.0, 463.0, 464.0, 465.0, 466.0, 467.0, 468.0, 469.0, 470.0, 471.0, 472.0, 473.0, 474.0, 475.0, 476.0, 477.0, 478.0, 479.0, 480.0, 481.0, 482.0, 483.0, 484.0, 485.0, 486.0, 487.0, 488.0, 489.0, 490.0, 491.0, 492.0, 493.0, 494.0, 495.0, 496.0, 497.0, 498.0, 499.0, 500.0], \"xaxis\": \"x\", \"y\": [0.07317687368651019, 0.09980293806291124, 0.1261497015319097, 0.15027566682392537, 0.17380197963243388, 0.19637615603159142, 0.21769331491444038, 0.2384705391030153, 0.25863233844811717, 0.2779722606530288, 0.29636615028948865, 0.31422414193664183, 0.3318993283530676, 0.3487305656891031, 0.3645962362194508, 0.3801750610511715, 0.39535759928524655, 0.41001428451130884, 0.42442655469061585, 0.43842781569003914, 0.45225198534682737, 0.4656778600139838, 0.4788994274780731, 0.4916549637878271, 0.5039791360868642, 0.5160873969058154, 0.5278532157658798, 0.5394391558418902, 0.5507792562137344, 0.5617288952733981, 0.5723724425457868, 0.5828245861867093, 0.5931155860397805, 0.6031170907807374, 0.6127433853797428, 0.6222519792977842, 0.6314576641955472, 0.6402543499920218, 0.6488969390509125, 0.657409484784352, 0.6657614456587171, 0.6738904456435167, 0.6819145794299237, 0.6897998966997552, 0.6975005506931188, 0.7047556066287476, 0.711929317682281, 0.7188738226493606, 0.7256821495276582, 0.7324064451159128, 0.7388684254128741, 0.7452755920792282, 0.7515743024990678, 0.757746752027356, 0.7637684905853066, 0.7697084981504861, 0.7754803215307877, 0.7811304346391434, 0.7865351949581976, 0.7918558455612087, 0.797053556282363, 0.8022100521797094, 0.8070984952251664, 0.8119598951736708, 0.8166975154415909, 0.8213995219405242, 0.8259707563113421, 0.8304840184993791, 0.8348677240623401, 0.8391375459508121, 0.8433615715785181, 0.847450291458646, 0.8514295427037173, 0.855349542277002, 0.8592205245922371, 0.8630167799668782, 0.8666868688022252, 0.8703325213349395, 0.8738624579880951, 0.8773616299452459, 0.8806558655856678, 0.8838996950685266, 0.8870753583027075, 0.890099874072123, 0.8931031472179912, 0.8960452420545664, 0.8988625586295163, 0.901651135300425, 0.9043165032333738, 0.9069646088391916, 0.9095546491563692, 0.9121353276544517, 0.9146249808604872, 0.9170461419686547, 0.919451036157328, 0.9217905323269348, 0.9239974331523714, 0.9261680312289535, 0.9283285902544017, 0.930441407803392, 0.9325269092662305, 0.9345151169147192, 0.9364309875885182, 0.9383108354258022, 0.9401147413156027, 0.9419079092413472, 0.9436537074416186, 0.9453336648157494, 0.9469798168776864, 0.9486063488481907, 0.9501890519849233, 0.9517071369924203, 0.9531893239917961, 0.9546497925738325, 0.9561001838011701, 0.9575393292803, 0.9589214791248296, 0.9602674592008902, 0.9615905522915709, 0.9628792113582046, 0.9641119457658525, 0.9653420058169794, 0.9665222742463234, 0.9677021914714156, 0.968802466268027, 0.9698882233513376, 0.9709358964775757, 0.9719460838555435, 0.9729316298657605, 0.9738860656438877, 0.9748112455291956, 0.9757289725687884, 0.976615295973608, 0.9774744692232061, 0.9783147746838294, 0.9791191795364814, 0.9798993648410784, 0.9806348829482983, 0.9813544801294073, 0.9820610528077617, 0.982754680847647, 0.9834191576878025, 0.984052597413873, 0.9846819561301703, 0.9852981840166873, 0.985881980570908, 0.9864562975253404, 0.987014136320441, 0.9875667226320421, 0.988105916789647, 0.9886117294025352, 0.9891089911124239, 0.9895825885051412, 0.9900443488681663, 0.9904958459409369, 0.990926989879699, 0.9913483737439523, 0.991765039576456, 0.9921635065193743, 0.9925560066006549, 0.9929420066671399, 0.9933175571684656, 0.9936729384644118, 0.9940168069039778, 0.9943444138802012, 0.9946614019002442, 0.9949569835047984, 0.9952501077448974, 0.9955317557088167, 0.9957955974995801, 0.9960509394335841, 0.9962933926146046, 0.9965302295344199, 0.9967505454884805, 0.9969607075930311, 0.997168929782982, 0.9973719571399632, 0.997568180696212, 0.9977509663133174, 0.9979264664315579, 0.9980946153012417, 0.9982568890680187, 0.9984106346937438, 0.9985605893947136, 0.9987008215810103, 0.9988393145382002, 0.9989645168427238, 0.9990774113297698, 0.9991825407040229, 0.999282693296516, 0.9993803794893651, 0.9994747808644256, 0.9995668907125952, 0.9996426120076309, 0.9997174176460262, 0.999784863604933, 0.9998488835250618, 0.9999109294132466, 0.9999567912902319, 0.9999999999999999, 0.9999999999999999, 0.9999999999999999, 0.9999999999999999, 0.9999999999999999, 0.9999999999999999, 0.9999999999999999, 0.9999999999999999, 0.9999999999999999, 0.9999999999999999, 0.9999999999999999, 0.9999999999999999, 0.9999999999999999, 0.9999999999999999, 0.9999999999999999, 0.9999999999999999, 0.9999999999999999, 0.9999999999999999, 0.9999999999999999, 0.9999999999999999, 0.9999999999999999, 0.9999999999999999, 0.9999999999999999, 0.9999999999999999, 0.9999999999999999, 0.9999999999999999, 0.9999999999999999, 0.9999999999999999, 0.9999999999999999, 0.9999999999999999, 0.9999999999999999, 0.9999999999999999, 0.9999999999999999, 0.9999999999999999, 0.9999999999999999, 0.9999999999999999, 0.9999999999999999, 0.9999999999999999, 0.9999999999999999, 0.9999999999999999, 0.9999999999999999, 0.9999999999999999, 0.9999999999999999, 0.9999999999999999, 0.9999999999999999, 0.9999999999999999, 0.9999999999999999, 0.9999999999999999, 0.9999999999999999, 0.9999999999999999, 0.9999999999999999, 0.9999999999999999, 0.9999999999999999, 0.9999999999999999, 0.9999999999999999, 0.9999999999999999, 0.9999999999999999, 0.9999999999999999, 0.9999999999999999, 0.9999999999999999, 0.9999999999999999, 0.9999999999999999, 0.9999999999999999, 0.9999999999999999, 0.9999999999999999, 0.9999999999999999, 0.9999999999999999, 0.9999999999999999, 0.9999999999999999, 0.9999999999999999, 0.9999999999999999, 0.9999999999999999, 0.9999999999999999, 0.9999999999999999, 0.9999999999999999, 0.9999999999999999, 0.9999999999999999, 0.9999999999999999, 0.9999999999999999, 0.9999999999999999, 0.9999999999999999, 0.9999999999999999, 0.9999999999999999, 0.9999999999999999, 0.9999999999999999, 0.9999999999999999, 0.9999999999999999, 0.9999999999999999, 0.9999999999999999, 0.9999999999999999, 0.9999999999999999, 0.9999999999999999, 0.9999999999999999, 0.9999999999999999, 0.9999999999999999, 0.9999999999999999, 0.9999999999999999, 0.9999999999999999, 0.9999999999999999, 0.9999999999999999, 0.9999999999999999, 0.9999999999999999, 0.9999999999999999, 0.9999999999999999, 0.9999999999999999, 0.9999999999999999, 0.9999999999999999, 0.9999999999999999, 0.9999999999999999, 0.9999999999999999, 0.9999999999999999, 0.9999999999999999, 0.9999999999999999, 0.9999999999999999, 0.9999999999999999, 0.9999999999999999, 0.9999999999999999, 0.9999999999999999, 0.9999999999999999, 0.9999999999999999, 0.9999999999999999, 0.9999999999999999, 0.9999999999999999, 0.9999999999999999, 0.9999999999999999, 0.9999999999999999, 0.9999999999999999, 0.9999999999999999, 0.9999999999999999, 0.9999999999999999, 0.9999999999999999, 0.9999999999999999, 0.9999999999999999, 0.9999999999999999, 0.9999999999999999, 0.9999999999999999, 0.9999999999999999, 0.9999999999999999, 0.9999999999999999, 0.9999999999999999, 0.9999999999999999, 0.9999999999999999, 0.9999999999999999, 0.9999999999999999, 0.9999999999999999, 0.9999999999999999, 0.9999999999999999, 0.9999999999999999, 0.9999999999999999, 0.9999999999999999, 0.9999999999999999, 0.9999999999999999, 0.9999999999999999, 0.9999999999999999, 0.9999999999999999, 0.9999999999999999, 0.9999999999999999, 0.9999999999999999, 0.9999999999999999, 0.9999999999999999, 0.9999999999999999, 0.9999999999999999, 0.9999999999999999, 0.9999999999999999, 0.9999999999999999, 0.9999999999999999, 0.9999999999999999, 0.9999999999999999, 0.9999999999999999, 0.9999999999999999, 0.9999999999999999, 0.9999999999999999, 0.9999999999999999, 0.9999999999999999, 0.9999999999999999, 0.9999999999999999, 0.9999999999999999, 0.9999999999999999, 0.9999999999999999, 0.9999999999999999, 0.9999999999999999, 0.9999999999999999, 0.9999999999999999, 0.9999999999999999, 0.9999999999999999, 0.9999999999999999, 0.9999999999999999, 0.9999999999999999, 0.9999999999999999, 0.9999999999999999, 0.9999999999999999, 0.9999999999999999, 0.9999999999999999, 0.9999999999999999, 0.9999999999999999, 0.9999999999999999, 0.9999999999999999, 0.9999999999999999, 0.9999999999999999, 0.9999999999999999, 0.9999999999999999, 0.9999999999999999, 0.9999999999999999, 0.9999999999999999, 0.9999999999999999, 0.9999999999999999, 0.9999999999999999, 0.9999999999999999, 0.9999999999999999, 0.9999999999999999, 0.9999999999999999, 0.9999999999999999, 0.9999999999999999, 0.9999999999999999, 0.9999999999999999, 0.9999999999999999, 0.9999999999999999, 0.9999999999999999, 0.9999999999999999, 0.9999999999999999, 0.9999999999999999, 0.9999999999999999, 0.9999999999999999, 0.9999999999999999, 0.9999999999999999, 0.9999999999999999, 0.9999999999999999, 0.9999999999999999, 0.9999999999999999, 0.9999999999999999, 0.9999999999999999, 0.9999999999999999, 0.9999999999999999, 0.9999999999999999, 0.9999999999999999, 0.9999999999999999, 0.9999999999999999, 0.9999999999999999, 0.9999999999999999, 0.9999999999999999, 0.9999999999999999, 0.9999999999999999, 0.9999999999999999, 0.9999999999999999, 0.9999999999999999, 0.9999999999999999, 0.9999999999999999, 0.9999999999999999, 0.9999999999999999, 0.9999999999999999, 0.9999999999999999, 0.9999999999999999, 0.9999999999999999, 0.9999999999999999, 0.9999999999999999, 0.9999999999999999, 0.9999999999999999, 0.9999999999999999, 0.9999999999999999, 0.9999999999999999, 0.9999999999999999, 0.9999999999999999, 0.9999999999999999, 0.9999999999999999, 0.9999999999999999, 0.9999999999999999, 0.9999999999999999, 0.9999999999999999, 0.9999999999999999, 0.9999999999999999, 0.9999999999999999, 0.9999999999999999, 0.9999999999999999, 0.9999999999999999, 0.9999999999999999, 0.9999999999999999, 0.9999999999999999, 0.9999999999999999, 0.9999999999999999, 0.9999999999999999, 0.9999999999999999, 0.9999999999999999, 0.9999999999999999, 0.9999999999999999, 0.9999999999999999, 0.9999999999999999, 0.9999999999999999, 0.9999999999999999, 0.9999999999999999, 0.9999999999999999, 0.9999999999999999, 0.9999999999999999, 0.9999999999999999, 0.9999999999999999, 0.9999999999999999, 0.9999999999999999, 0.9999999999999999, 0.9999999999999999, 0.9999999999999999, 0.9999999999999999, 0.9999999999999999], \"yaxis\": \"y\"}],\n",
              "                        {\"legend\": {\"tracegroupgap\": 0}, \"template\": {\"data\": {\"bar\": [{\"error_x\": {\"color\": \"#2a3f5f\"}, \"error_y\": {\"color\": \"#2a3f5f\"}, \"marker\": {\"line\": {\"color\": \"#E5ECF6\", \"width\": 0.5}}, \"type\": \"bar\"}], \"barpolar\": [{\"marker\": {\"line\": {\"color\": \"#E5ECF6\", \"width\": 0.5}}, \"type\": \"barpolar\"}], \"carpet\": [{\"aaxis\": {\"endlinecolor\": \"#2a3f5f\", \"gridcolor\": \"white\", \"linecolor\": \"white\", \"minorgridcolor\": \"white\", \"startlinecolor\": \"#2a3f5f\"}, \"baxis\": {\"endlinecolor\": \"#2a3f5f\", \"gridcolor\": \"white\", \"linecolor\": \"white\", \"minorgridcolor\": \"white\", \"startlinecolor\": \"#2a3f5f\"}, \"type\": \"carpet\"}], \"choropleth\": [{\"colorbar\": {\"outlinewidth\": 0, \"ticks\": \"\"}, \"type\": \"choropleth\"}], \"contour\": [{\"colorbar\": {\"outlinewidth\": 0, \"ticks\": \"\"}, \"colorscale\": [[0.0, \"#0d0887\"], [0.1111111111111111, \"#46039f\"], [0.2222222222222222, \"#7201a8\"], [0.3333333333333333, \"#9c179e\"], [0.4444444444444444, \"#bd3786\"], [0.5555555555555556, \"#d8576b\"], [0.6666666666666666, \"#ed7953\"], [0.7777777777777778, \"#fb9f3a\"], [0.8888888888888888, \"#fdca26\"], [1.0, \"#f0f921\"]], \"type\": \"contour\"}], \"contourcarpet\": [{\"colorbar\": {\"outlinewidth\": 0, \"ticks\": \"\"}, \"type\": \"contourcarpet\"}], \"heatmap\": [{\"colorbar\": {\"outlinewidth\": 0, \"ticks\": \"\"}, \"colorscale\": [[0.0, \"#0d0887\"], [0.1111111111111111, \"#46039f\"], [0.2222222222222222, \"#7201a8\"], [0.3333333333333333, \"#9c179e\"], [0.4444444444444444, \"#bd3786\"], [0.5555555555555556, \"#d8576b\"], [0.6666666666666666, \"#ed7953\"], [0.7777777777777778, \"#fb9f3a\"], [0.8888888888888888, \"#fdca26\"], [1.0, \"#f0f921\"]], \"type\": \"heatmap\"}], \"heatmapgl\": [{\"colorbar\": {\"outlinewidth\": 0, \"ticks\": \"\"}, \"colorscale\": [[0.0, \"#0d0887\"], [0.1111111111111111, \"#46039f\"], [0.2222222222222222, \"#7201a8\"], [0.3333333333333333, \"#9c179e\"], [0.4444444444444444, \"#bd3786\"], [0.5555555555555556, \"#d8576b\"], [0.6666666666666666, \"#ed7953\"], [0.7777777777777778, \"#fb9f3a\"], [0.8888888888888888, \"#fdca26\"], [1.0, \"#f0f921\"]], \"type\": \"heatmapgl\"}], \"histogram\": [{\"marker\": {\"colorbar\": {\"outlinewidth\": 0, \"ticks\": \"\"}}, \"type\": \"histogram\"}], \"histogram2d\": [{\"colorbar\": {\"outlinewidth\": 0, \"ticks\": \"\"}, \"colorscale\": [[0.0, \"#0d0887\"], [0.1111111111111111, \"#46039f\"], [0.2222222222222222, \"#7201a8\"], [0.3333333333333333, \"#9c179e\"], [0.4444444444444444, \"#bd3786\"], [0.5555555555555556, \"#d8576b\"], [0.6666666666666666, \"#ed7953\"], [0.7777777777777778, \"#fb9f3a\"], [0.8888888888888888, \"#fdca26\"], [1.0, \"#f0f921\"]], \"type\": \"histogram2d\"}], \"histogram2dcontour\": [{\"colorbar\": {\"outlinewidth\": 0, \"ticks\": \"\"}, \"colorscale\": [[0.0, \"#0d0887\"], [0.1111111111111111, \"#46039f\"], [0.2222222222222222, \"#7201a8\"], [0.3333333333333333, \"#9c179e\"], [0.4444444444444444, \"#bd3786\"], [0.5555555555555556, \"#d8576b\"], [0.6666666666666666, \"#ed7953\"], [0.7777777777777778, \"#fb9f3a\"], [0.8888888888888888, \"#fdca26\"], [1.0, \"#f0f921\"]], \"type\": \"histogram2dcontour\"}], \"mesh3d\": [{\"colorbar\": {\"outlinewidth\": 0, \"ticks\": \"\"}, \"type\": \"mesh3d\"}], \"parcoords\": [{\"line\": {\"colorbar\": {\"outlinewidth\": 0, \"ticks\": \"\"}}, \"type\": \"parcoords\"}], \"pie\": [{\"automargin\": true, \"type\": \"pie\"}], \"scatter\": [{\"marker\": {\"colorbar\": {\"outlinewidth\": 0, \"ticks\": \"\"}}, \"type\": \"scatter\"}], \"scatter3d\": [{\"line\": {\"colorbar\": {\"outlinewidth\": 0, \"ticks\": \"\"}}, \"marker\": {\"colorbar\": {\"outlinewidth\": 0, \"ticks\": \"\"}}, \"type\": \"scatter3d\"}], \"scattercarpet\": [{\"marker\": {\"colorbar\": {\"outlinewidth\": 0, \"ticks\": \"\"}}, \"type\": \"scattercarpet\"}], \"scattergeo\": [{\"marker\": {\"colorbar\": {\"outlinewidth\": 0, \"ticks\": \"\"}}, \"type\": \"scattergeo\"}], \"scattergl\": [{\"marker\": {\"colorbar\": {\"outlinewidth\": 0, \"ticks\": \"\"}}, \"type\": \"scattergl\"}], \"scattermapbox\": [{\"marker\": {\"colorbar\": {\"outlinewidth\": 0, \"ticks\": \"\"}}, \"type\": \"scattermapbox\"}], \"scatterpolar\": [{\"marker\": {\"colorbar\": {\"outlinewidth\": 0, \"ticks\": \"\"}}, \"type\": \"scatterpolar\"}], \"scatterpolargl\": [{\"marker\": {\"colorbar\": {\"outlinewidth\": 0, \"ticks\": \"\"}}, \"type\": \"scatterpolargl\"}], \"scatterternary\": [{\"marker\": {\"colorbar\": {\"outlinewidth\": 0, \"ticks\": \"\"}}, \"type\": \"scatterternary\"}], \"surface\": [{\"colorbar\": {\"outlinewidth\": 0, \"ticks\": \"\"}, \"colorscale\": [[0.0, \"#0d0887\"], [0.1111111111111111, \"#46039f\"], [0.2222222222222222, \"#7201a8\"], [0.3333333333333333, \"#9c179e\"], [0.4444444444444444, \"#bd3786\"], [0.5555555555555556, \"#d8576b\"], [0.6666666666666666, \"#ed7953\"], [0.7777777777777778, \"#fb9f3a\"], [0.8888888888888888, \"#fdca26\"], [1.0, \"#f0f921\"]], \"type\": \"surface\"}], \"table\": [{\"cells\": {\"fill\": {\"color\": \"#EBF0F8\"}, \"line\": {\"color\": \"white\"}}, \"header\": {\"fill\": {\"color\": \"#C8D4E3\"}, \"line\": {\"color\": \"white\"}}, \"type\": \"table\"}]}, \"layout\": {\"annotationdefaults\": {\"arrowcolor\": \"#2a3f5f\", \"arrowhead\": 0, \"arrowwidth\": 1}, \"coloraxis\": {\"colorbar\": {\"outlinewidth\": 0, \"ticks\": \"\"}}, \"colorscale\": {\"diverging\": [[0, \"#8e0152\"], [0.1, \"#c51b7d\"], [0.2, \"#de77ae\"], [0.3, \"#f1b6da\"], [0.4, \"#fde0ef\"], [0.5, \"#f7f7f7\"], [0.6, \"#e6f5d0\"], [0.7, \"#b8e186\"], [0.8, \"#7fbc41\"], [0.9, \"#4d9221\"], [1, \"#276419\"]], \"sequential\": [[0.0, \"#0d0887\"], [0.1111111111111111, \"#46039f\"], [0.2222222222222222, \"#7201a8\"], [0.3333333333333333, \"#9c179e\"], [0.4444444444444444, \"#bd3786\"], [0.5555555555555556, \"#d8576b\"], [0.6666666666666666, \"#ed7953\"], [0.7777777777777778, \"#fb9f3a\"], [0.8888888888888888, \"#fdca26\"], [1.0, \"#f0f921\"]], \"sequentialminus\": [[0.0, \"#0d0887\"], [0.1111111111111111, \"#46039f\"], [0.2222222222222222, \"#7201a8\"], [0.3333333333333333, \"#9c179e\"], [0.4444444444444444, \"#bd3786\"], [0.5555555555555556, \"#d8576b\"], [0.6666666666666666, \"#ed7953\"], [0.7777777777777778, \"#fb9f3a\"], [0.8888888888888888, \"#fdca26\"], [1.0, \"#f0f921\"]]}, \"colorway\": [\"#636efa\", \"#EF553B\", \"#00cc96\", \"#ab63fa\", \"#FFA15A\", \"#19d3f3\", \"#FF6692\", \"#B6E880\", \"#FF97FF\", \"#FECB52\"], \"font\": {\"color\": \"#2a3f5f\"}, \"geo\": {\"bgcolor\": \"white\", \"lakecolor\": \"white\", \"landcolor\": \"#E5ECF6\", \"showlakes\": true, \"showland\": true, \"subunitcolor\": \"white\"}, \"hoverlabel\": {\"align\": \"left\"}, \"hovermode\": \"closest\", \"mapbox\": {\"style\": \"light\"}, \"paper_bgcolor\": \"white\", \"plot_bgcolor\": \"#E5ECF6\", \"polar\": {\"angularaxis\": {\"gridcolor\": \"white\", \"linecolor\": \"white\", \"ticks\": \"\"}, \"bgcolor\": \"#E5ECF6\", \"radialaxis\": {\"gridcolor\": \"white\", \"linecolor\": \"white\", \"ticks\": \"\"}}, \"scene\": {\"xaxis\": {\"backgroundcolor\": \"#E5ECF6\", \"gridcolor\": \"white\", \"gridwidth\": 2, \"linecolor\": \"white\", \"showbackground\": true, \"ticks\": \"\", \"zerolinecolor\": \"white\"}, \"yaxis\": {\"backgroundcolor\": \"#E5ECF6\", \"gridcolor\": \"white\", \"gridwidth\": 2, \"linecolor\": \"white\", \"showbackground\": true, \"ticks\": \"\", \"zerolinecolor\": \"white\"}, \"zaxis\": {\"backgroundcolor\": \"#E5ECF6\", \"gridcolor\": \"white\", \"gridwidth\": 2, \"linecolor\": \"white\", \"showbackground\": true, \"ticks\": \"\", \"zerolinecolor\": \"white\"}}, \"shapedefaults\": {\"line\": {\"color\": \"#2a3f5f\"}}, \"ternary\": {\"aaxis\": {\"gridcolor\": \"white\", \"linecolor\": \"white\", \"ticks\": \"\"}, \"baxis\": {\"gridcolor\": \"white\", \"linecolor\": \"white\", \"ticks\": \"\"}, \"bgcolor\": \"#E5ECF6\", \"caxis\": {\"gridcolor\": \"white\", \"linecolor\": \"white\", \"ticks\": \"\"}}, \"title\": {\"x\": 0.05}, \"xaxis\": {\"automargin\": true, \"gridcolor\": \"white\", \"linecolor\": \"white\", \"ticks\": \"\", \"title\": {\"standoff\": 15}, \"zerolinecolor\": \"white\", \"zerolinewidth\": 2}, \"yaxis\": {\"automargin\": true, \"gridcolor\": \"white\", \"linecolor\": \"white\", \"ticks\": \"\", \"title\": {\"standoff\": 15}, \"zerolinecolor\": \"white\", \"zerolinewidth\": 2}}}, \"title\": {\"text\": \"Variance vs Dimensions\"}, \"xaxis\": {\"anchor\": \"y\", \"domain\": [0.0, 1.0], \"title\": {\"text\": \"Dimensions\"}}, \"yaxis\": {\"anchor\": \"x\", \"domain\": [0.0, 1.0], \"title\": {\"text\": \"Explained Variance\"}}},\n",
              "                        {\"responsive\": true}\n",
              "                    ).then(function(){\n",
              "                            \n",
              "var gd = document.getElementById('93088722-d992-4a1d-b1bd-b26e23155279');\n",
              "var x = new MutationObserver(function (mutations, observer) {{\n",
              "        var display = window.getComputedStyle(gd).display;\n",
              "        if (!display || display === 'none') {{\n",
              "            console.log([gd, 'removed!']);\n",
              "            Plotly.purge(gd);\n",
              "            observer.disconnect();\n",
              "        }}\n",
              "}});\n",
              "\n",
              "// Listen for the removal of the full notebook cells\n",
              "var notebookContainer = gd.closest('#notebook-container');\n",
              "if (notebookContainer) {{\n",
              "    x.observe(notebookContainer, {childList: true});\n",
              "}}\n",
              "\n",
              "// Listen for the clearing of the current output cell\n",
              "var outputEl = gd.closest('.output');\n",
              "if (outputEl) {{\n",
              "    x.observe(outputEl, {childList: true});\n",
              "}}\n",
              "\n",
              "                        })\n",
              "                };\n",
              "                \n",
              "            </script>\n",
              "        </div>\n",
              "</body>\n",
              "</html>"
            ]
          },
          "metadata": {}
        }
      ]
    },
    {
      "cell_type": "code",
      "metadata": {
        "colab": {
          "base_uri": "https://localhost:8080/",
          "height": 542
        },
        "id": "snIEw0m5Fohr",
        "outputId": "32a0468e-f937-41cc-80ac-ed33adf779bf"
      },
      "source": [
        "per_var = np.round(pca2.explained_variance_ratio_ * 100, decimals=1)\n",
        "labels = ['PC' + str(x) for x in range(1, len(per_var)+1)]\n",
        "\n",
        "fig = px.bar(x=labels[:200], y=per_var[:200], labels={'x':'Principal Components', 'y':'Percentage of Explained Variance'})\n",
        "fig.show()"
      ],
      "execution_count": 20,
      "outputs": [
        {
          "output_type": "display_data",
          "data": {
            "text/html": [
              "<html>\n",
              "<head><meta charset=\"utf-8\" /></head>\n",
              "<body>\n",
              "    <div>\n",
              "            <script src=\"https://cdnjs.cloudflare.com/ajax/libs/mathjax/2.7.5/MathJax.js?config=TeX-AMS-MML_SVG\"></script><script type=\"text/javascript\">if (window.MathJax) {MathJax.Hub.Config({SVG: {font: \"STIX-Web\"}});}</script>\n",
              "                <script type=\"text/javascript\">window.PlotlyConfig = {MathJaxConfig: 'local'};</script>\n",
              "        <script src=\"https://cdn.plot.ly/plotly-latest.min.js\"></script>    \n",
              "            <div id=\"03f1e977-94fb-46a5-b244-b67ea1f7f901\" class=\"plotly-graph-div\" style=\"height:525px; width:100%;\"></div>\n",
              "            <script type=\"text/javascript\">\n",
              "                \n",
              "                    window.PLOTLYENV=window.PLOTLYENV || {};\n",
              "                    \n",
              "                if (document.getElementById(\"03f1e977-94fb-46a5-b244-b67ea1f7f901\")) {\n",
              "                    Plotly.newPlot(\n",
              "                        '03f1e977-94fb-46a5-b244-b67ea1f7f901',\n",
              "                        [{\"alignmentgroup\": \"True\", \"hoverlabel\": {\"namelength\": 0}, \"hovertemplate\": \"Principal Components=%{x}<br>Percentage of Explained Variance=%{y}\", \"legendgroup\": \"\", \"marker\": {\"color\": \"#636efa\"}, \"name\": \"\", \"offsetgroup\": \"\", \"orientation\": \"v\", \"showlegend\": false, \"textposition\": \"auto\", \"type\": \"bar\", \"x\": [\"PC1\", \"PC2\", \"PC3\", \"PC4\", \"PC5\", \"PC6\", \"PC7\", \"PC8\", \"PC9\", \"PC10\", \"PC11\", \"PC12\", \"PC13\", \"PC14\", \"PC15\", \"PC16\", \"PC17\", \"PC18\", \"PC19\", \"PC20\", \"PC21\", \"PC22\", \"PC23\", \"PC24\", \"PC25\", \"PC26\", \"PC27\", \"PC28\", \"PC29\", \"PC30\", \"PC31\", \"PC32\", \"PC33\", \"PC34\", \"PC35\", \"PC36\", \"PC37\", \"PC38\", \"PC39\", \"PC40\", \"PC41\", \"PC42\", \"PC43\", \"PC44\", \"PC45\", \"PC46\", \"PC47\", \"PC48\", \"PC49\", \"PC50\", \"PC51\", \"PC52\", \"PC53\", \"PC54\", \"PC55\", \"PC56\", \"PC57\", \"PC58\", \"PC59\", \"PC60\", \"PC61\", \"PC62\", \"PC63\", \"PC64\", \"PC65\", \"PC66\", \"PC67\", \"PC68\", \"PC69\", \"PC70\", \"PC71\", \"PC72\", \"PC73\", \"PC74\", \"PC75\", \"PC76\", \"PC77\", \"PC78\", \"PC79\", \"PC80\", \"PC81\", \"PC82\", \"PC83\", \"PC84\", \"PC85\", \"PC86\", \"PC87\", \"PC88\", \"PC89\", \"PC90\", \"PC91\", \"PC92\", \"PC93\", \"PC94\", \"PC95\", \"PC96\", \"PC97\", \"PC98\", \"PC99\", \"PC100\", \"PC101\", \"PC102\", \"PC103\", \"PC104\", \"PC105\", \"PC106\", \"PC107\", \"PC108\", \"PC109\", \"PC110\", \"PC111\", \"PC112\", \"PC113\", \"PC114\", \"PC115\", \"PC116\", \"PC117\", \"PC118\", \"PC119\", \"PC120\", \"PC121\", \"PC122\", \"PC123\", \"PC124\", \"PC125\", \"PC126\", \"PC127\", \"PC128\", \"PC129\", \"PC130\", \"PC131\", \"PC132\", \"PC133\", \"PC134\", \"PC135\", \"PC136\", \"PC137\", \"PC138\", \"PC139\", \"PC140\", \"PC141\", \"PC142\", \"PC143\", \"PC144\", \"PC145\", \"PC146\", \"PC147\", \"PC148\", \"PC149\", \"PC150\", \"PC151\", \"PC152\", \"PC153\", \"PC154\", \"PC155\", \"PC156\", \"PC157\", \"PC158\", \"PC159\", \"PC160\", \"PC161\", \"PC162\", \"PC163\", \"PC164\", \"PC165\", \"PC166\", \"PC167\", \"PC168\", \"PC169\", \"PC170\", \"PC171\", \"PC172\", \"PC173\", \"PC174\", \"PC175\", \"PC176\", \"PC177\", \"PC178\", \"PC179\", \"PC180\", \"PC181\", \"PC182\", \"PC183\", \"PC184\", \"PC185\", \"PC186\", \"PC187\", \"PC188\", \"PC189\", \"PC190\", \"PC191\", \"PC192\", \"PC193\", \"PC194\", \"PC195\", \"PC196\", \"PC197\", \"PC198\", \"PC199\", \"PC200\"], \"xaxis\": \"x\", \"y\": [7.3, 2.7, 2.6, 2.4, 2.4, 2.3, 2.1, 2.1, 2.0, 1.9, 1.8, 1.8, 1.8, 1.7, 1.6, 1.6, 1.5, 1.5, 1.4, 1.4, 1.4, 1.3, 1.3, 1.3, 1.2, 1.2, 1.2, 1.2, 1.1, 1.1, 1.1, 1.0, 1.0, 1.0, 1.0, 1.0, 0.9, 0.9, 0.9, 0.9, 0.8, 0.8, 0.8, 0.8, 0.8, 0.7, 0.7, 0.7, 0.7, 0.7, 0.6, 0.6, 0.6, 0.6, 0.6, 0.6, 0.6, 0.6, 0.5, 0.5, 0.5, 0.5, 0.5, 0.5, 0.5, 0.5, 0.5, 0.5, 0.4, 0.4, 0.4, 0.4, 0.4, 0.4, 0.4, 0.4, 0.4, 0.4, 0.4, 0.3, 0.3, 0.3, 0.3, 0.3, 0.3, 0.3, 0.3, 0.3, 0.3, 0.3, 0.3, 0.3, 0.2, 0.2, 0.2, 0.2, 0.2, 0.2, 0.2, 0.2, 0.2, 0.2, 0.2, 0.2, 0.2, 0.2, 0.2, 0.2, 0.2, 0.2, 0.2, 0.2, 0.1, 0.1, 0.1, 0.1, 0.1, 0.1, 0.1, 0.1, 0.1, 0.1, 0.1, 0.1, 0.1, 0.1, 0.1, 0.1, 0.1, 0.1, 0.1, 0.1, 0.1, 0.1, 0.1, 0.1, 0.1, 0.1, 0.1, 0.1, 0.1, 0.1, 0.1, 0.1, 0.1, 0.1, 0.1, 0.1, 0.1, 0.1, 0.1, 0.0, 0.0, 0.0, 0.0, 0.0, 0.0, 0.0, 0.0, 0.0, 0.0, 0.0, 0.0, 0.0, 0.0, 0.0, 0.0, 0.0, 0.0, 0.0, 0.0, 0.0, 0.0, 0.0, 0.0, 0.0, 0.0, 0.0, 0.0, 0.0, 0.0, 0.0, 0.0, 0.0, 0.0, 0.0, 0.0, 0.0, 0.0, 0.0, 0.0, 0.0, 0.0, 0.0, 0.0, 0.0, 0.0, 0.0, 0.0, 0.0], \"yaxis\": \"y\"}],\n",
              "                        {\"barmode\": \"relative\", \"legend\": {\"tracegroupgap\": 0}, \"margin\": {\"t\": 60}, \"template\": {\"data\": {\"bar\": [{\"error_x\": {\"color\": \"#2a3f5f\"}, \"error_y\": {\"color\": \"#2a3f5f\"}, \"marker\": {\"line\": {\"color\": \"#E5ECF6\", \"width\": 0.5}}, \"type\": \"bar\"}], \"barpolar\": [{\"marker\": {\"line\": {\"color\": \"#E5ECF6\", \"width\": 0.5}}, \"type\": \"barpolar\"}], \"carpet\": [{\"aaxis\": {\"endlinecolor\": \"#2a3f5f\", \"gridcolor\": \"white\", \"linecolor\": \"white\", \"minorgridcolor\": \"white\", \"startlinecolor\": \"#2a3f5f\"}, \"baxis\": {\"endlinecolor\": \"#2a3f5f\", \"gridcolor\": \"white\", \"linecolor\": \"white\", \"minorgridcolor\": \"white\", \"startlinecolor\": \"#2a3f5f\"}, \"type\": \"carpet\"}], \"choropleth\": [{\"colorbar\": {\"outlinewidth\": 0, \"ticks\": \"\"}, \"type\": \"choropleth\"}], \"contour\": [{\"colorbar\": {\"outlinewidth\": 0, \"ticks\": \"\"}, \"colorscale\": [[0.0, \"#0d0887\"], [0.1111111111111111, \"#46039f\"], [0.2222222222222222, \"#7201a8\"], [0.3333333333333333, \"#9c179e\"], [0.4444444444444444, \"#bd3786\"], [0.5555555555555556, \"#d8576b\"], [0.6666666666666666, \"#ed7953\"], [0.7777777777777778, \"#fb9f3a\"], [0.8888888888888888, \"#fdca26\"], [1.0, \"#f0f921\"]], \"type\": \"contour\"}], \"contourcarpet\": [{\"colorbar\": {\"outlinewidth\": 0, \"ticks\": \"\"}, \"type\": \"contourcarpet\"}], \"heatmap\": [{\"colorbar\": {\"outlinewidth\": 0, \"ticks\": \"\"}, \"colorscale\": [[0.0, \"#0d0887\"], [0.1111111111111111, \"#46039f\"], [0.2222222222222222, \"#7201a8\"], [0.3333333333333333, \"#9c179e\"], [0.4444444444444444, \"#bd3786\"], [0.5555555555555556, \"#d8576b\"], [0.6666666666666666, \"#ed7953\"], [0.7777777777777778, \"#fb9f3a\"], [0.8888888888888888, \"#fdca26\"], [1.0, \"#f0f921\"]], \"type\": \"heatmap\"}], \"heatmapgl\": [{\"colorbar\": {\"outlinewidth\": 0, \"ticks\": \"\"}, \"colorscale\": [[0.0, \"#0d0887\"], [0.1111111111111111, \"#46039f\"], [0.2222222222222222, \"#7201a8\"], [0.3333333333333333, \"#9c179e\"], [0.4444444444444444, \"#bd3786\"], [0.5555555555555556, \"#d8576b\"], [0.6666666666666666, \"#ed7953\"], [0.7777777777777778, \"#fb9f3a\"], [0.8888888888888888, \"#fdca26\"], [1.0, \"#f0f921\"]], \"type\": \"heatmapgl\"}], \"histogram\": [{\"marker\": {\"colorbar\": {\"outlinewidth\": 0, \"ticks\": \"\"}}, \"type\": \"histogram\"}], \"histogram2d\": [{\"colorbar\": {\"outlinewidth\": 0, \"ticks\": \"\"}, \"colorscale\": [[0.0, \"#0d0887\"], [0.1111111111111111, \"#46039f\"], [0.2222222222222222, \"#7201a8\"], [0.3333333333333333, \"#9c179e\"], [0.4444444444444444, \"#bd3786\"], [0.5555555555555556, \"#d8576b\"], [0.6666666666666666, \"#ed7953\"], [0.7777777777777778, \"#fb9f3a\"], [0.8888888888888888, \"#fdca26\"], [1.0, \"#f0f921\"]], \"type\": \"histogram2d\"}], \"histogram2dcontour\": [{\"colorbar\": {\"outlinewidth\": 0, \"ticks\": \"\"}, \"colorscale\": [[0.0, \"#0d0887\"], [0.1111111111111111, \"#46039f\"], [0.2222222222222222, \"#7201a8\"], [0.3333333333333333, \"#9c179e\"], [0.4444444444444444, \"#bd3786\"], [0.5555555555555556, \"#d8576b\"], [0.6666666666666666, \"#ed7953\"], [0.7777777777777778, \"#fb9f3a\"], [0.8888888888888888, \"#fdca26\"], [1.0, \"#f0f921\"]], \"type\": \"histogram2dcontour\"}], \"mesh3d\": [{\"colorbar\": {\"outlinewidth\": 0, \"ticks\": \"\"}, \"type\": \"mesh3d\"}], \"parcoords\": [{\"line\": {\"colorbar\": {\"outlinewidth\": 0, \"ticks\": \"\"}}, \"type\": \"parcoords\"}], \"pie\": [{\"automargin\": true, \"type\": \"pie\"}], \"scatter\": [{\"marker\": {\"colorbar\": {\"outlinewidth\": 0, \"ticks\": \"\"}}, \"type\": \"scatter\"}], \"scatter3d\": [{\"line\": {\"colorbar\": {\"outlinewidth\": 0, \"ticks\": \"\"}}, \"marker\": {\"colorbar\": {\"outlinewidth\": 0, \"ticks\": \"\"}}, \"type\": \"scatter3d\"}], \"scattercarpet\": [{\"marker\": {\"colorbar\": {\"outlinewidth\": 0, \"ticks\": \"\"}}, \"type\": \"scattercarpet\"}], \"scattergeo\": [{\"marker\": {\"colorbar\": {\"outlinewidth\": 0, \"ticks\": \"\"}}, \"type\": \"scattergeo\"}], \"scattergl\": [{\"marker\": {\"colorbar\": {\"outlinewidth\": 0, \"ticks\": \"\"}}, \"type\": \"scattergl\"}], \"scattermapbox\": [{\"marker\": {\"colorbar\": {\"outlinewidth\": 0, \"ticks\": \"\"}}, \"type\": \"scattermapbox\"}], \"scatterpolar\": [{\"marker\": {\"colorbar\": {\"outlinewidth\": 0, \"ticks\": \"\"}}, \"type\": \"scatterpolar\"}], \"scatterpolargl\": [{\"marker\": {\"colorbar\": {\"outlinewidth\": 0, \"ticks\": \"\"}}, \"type\": \"scatterpolargl\"}], \"scatterternary\": [{\"marker\": {\"colorbar\": {\"outlinewidth\": 0, \"ticks\": \"\"}}, \"type\": \"scatterternary\"}], \"surface\": [{\"colorbar\": {\"outlinewidth\": 0, \"ticks\": \"\"}, \"colorscale\": [[0.0, \"#0d0887\"], [0.1111111111111111, \"#46039f\"], [0.2222222222222222, \"#7201a8\"], [0.3333333333333333, \"#9c179e\"], [0.4444444444444444, \"#bd3786\"], [0.5555555555555556, \"#d8576b\"], [0.6666666666666666, \"#ed7953\"], [0.7777777777777778, \"#fb9f3a\"], [0.8888888888888888, \"#fdca26\"], [1.0, \"#f0f921\"]], \"type\": \"surface\"}], \"table\": [{\"cells\": {\"fill\": {\"color\": \"#EBF0F8\"}, \"line\": {\"color\": \"white\"}}, \"header\": {\"fill\": {\"color\": \"#C8D4E3\"}, \"line\": {\"color\": \"white\"}}, \"type\": \"table\"}]}, \"layout\": {\"annotationdefaults\": {\"arrowcolor\": \"#2a3f5f\", \"arrowhead\": 0, \"arrowwidth\": 1}, \"coloraxis\": {\"colorbar\": {\"outlinewidth\": 0, \"ticks\": \"\"}}, \"colorscale\": {\"diverging\": [[0, \"#8e0152\"], [0.1, \"#c51b7d\"], [0.2, \"#de77ae\"], [0.3, \"#f1b6da\"], [0.4, \"#fde0ef\"], [0.5, \"#f7f7f7\"], [0.6, \"#e6f5d0\"], [0.7, \"#b8e186\"], [0.8, \"#7fbc41\"], [0.9, \"#4d9221\"], [1, \"#276419\"]], \"sequential\": [[0.0, \"#0d0887\"], [0.1111111111111111, \"#46039f\"], [0.2222222222222222, \"#7201a8\"], [0.3333333333333333, \"#9c179e\"], [0.4444444444444444, \"#bd3786\"], [0.5555555555555556, \"#d8576b\"], [0.6666666666666666, \"#ed7953\"], [0.7777777777777778, \"#fb9f3a\"], [0.8888888888888888, \"#fdca26\"], [1.0, \"#f0f921\"]], \"sequentialminus\": [[0.0, \"#0d0887\"], [0.1111111111111111, \"#46039f\"], [0.2222222222222222, \"#7201a8\"], [0.3333333333333333, \"#9c179e\"], [0.4444444444444444, \"#bd3786\"], [0.5555555555555556, \"#d8576b\"], [0.6666666666666666, \"#ed7953\"], [0.7777777777777778, \"#fb9f3a\"], [0.8888888888888888, \"#fdca26\"], [1.0, \"#f0f921\"]]}, \"colorway\": [\"#636efa\", \"#EF553B\", \"#00cc96\", \"#ab63fa\", \"#FFA15A\", \"#19d3f3\", \"#FF6692\", \"#B6E880\", \"#FF97FF\", \"#FECB52\"], \"font\": {\"color\": \"#2a3f5f\"}, \"geo\": {\"bgcolor\": \"white\", \"lakecolor\": \"white\", \"landcolor\": \"#E5ECF6\", \"showlakes\": true, \"showland\": true, \"subunitcolor\": \"white\"}, \"hoverlabel\": {\"align\": \"left\"}, \"hovermode\": \"closest\", \"mapbox\": {\"style\": \"light\"}, \"paper_bgcolor\": \"white\", \"plot_bgcolor\": \"#E5ECF6\", \"polar\": {\"angularaxis\": {\"gridcolor\": \"white\", \"linecolor\": \"white\", \"ticks\": \"\"}, \"bgcolor\": \"#E5ECF6\", \"radialaxis\": {\"gridcolor\": \"white\", \"linecolor\": \"white\", \"ticks\": \"\"}}, \"scene\": {\"xaxis\": {\"backgroundcolor\": \"#E5ECF6\", \"gridcolor\": \"white\", \"gridwidth\": 2, \"linecolor\": \"white\", \"showbackground\": true, \"ticks\": \"\", \"zerolinecolor\": \"white\"}, \"yaxis\": {\"backgroundcolor\": \"#E5ECF6\", \"gridcolor\": \"white\", \"gridwidth\": 2, \"linecolor\": \"white\", \"showbackground\": true, \"ticks\": \"\", \"zerolinecolor\": \"white\"}, \"zaxis\": {\"backgroundcolor\": \"#E5ECF6\", \"gridcolor\": \"white\", \"gridwidth\": 2, \"linecolor\": \"white\", \"showbackground\": true, \"ticks\": \"\", \"zerolinecolor\": \"white\"}}, \"shapedefaults\": {\"line\": {\"color\": \"#2a3f5f\"}}, \"ternary\": {\"aaxis\": {\"gridcolor\": \"white\", \"linecolor\": \"white\", \"ticks\": \"\"}, \"baxis\": {\"gridcolor\": \"white\", \"linecolor\": \"white\", \"ticks\": \"\"}, \"bgcolor\": \"#E5ECF6\", \"caxis\": {\"gridcolor\": \"white\", \"linecolor\": \"white\", \"ticks\": \"\"}}, \"title\": {\"x\": 0.05}, \"xaxis\": {\"automargin\": true, \"gridcolor\": \"white\", \"linecolor\": \"white\", \"ticks\": \"\", \"title\": {\"standoff\": 15}, \"zerolinecolor\": \"white\", \"zerolinewidth\": 2}, \"yaxis\": {\"automargin\": true, \"gridcolor\": \"white\", \"linecolor\": \"white\", \"ticks\": \"\", \"title\": {\"standoff\": 15}, \"zerolinecolor\": \"white\", \"zerolinewidth\": 2}}}, \"xaxis\": {\"anchor\": \"y\", \"domain\": [0.0, 1.0], \"title\": {\"text\": \"Principal Components\"}}, \"yaxis\": {\"anchor\": \"x\", \"domain\": [0.0, 1.0], \"title\": {\"text\": \"Percentage of Explained Variance\"}}},\n",
              "                        {\"responsive\": true}\n",
              "                    ).then(function(){\n",
              "                            \n",
              "var gd = document.getElementById('03f1e977-94fb-46a5-b244-b67ea1f7f901');\n",
              "var x = new MutationObserver(function (mutations, observer) {{\n",
              "        var display = window.getComputedStyle(gd).display;\n",
              "        if (!display || display === 'none') {{\n",
              "            console.log([gd, 'removed!']);\n",
              "            Plotly.purge(gd);\n",
              "            observer.disconnect();\n",
              "        }}\n",
              "}});\n",
              "\n",
              "// Listen for the removal of the full notebook cells\n",
              "var notebookContainer = gd.closest('#notebook-container');\n",
              "if (notebookContainer) {{\n",
              "    x.observe(notebookContainer, {childList: true});\n",
              "}}\n",
              "\n",
              "// Listen for the clearing of the current output cell\n",
              "var outputEl = gd.closest('.output');\n",
              "if (outputEl) {{\n",
              "    x.observe(outputEl, {childList: true});\n",
              "}}\n",
              "\n",
              "                        })\n",
              "                };\n",
              "                \n",
              "            </script>\n",
              "        </div>\n",
              "</body>\n",
              "</html>"
            ]
          },
          "metadata": {}
        }
      ]
    },
    {
      "cell_type": "markdown",
      "metadata": {
        "id": "1Larvy6mQF-A"
      },
      "source": [
        "---"
      ]
    },
    {
      "cell_type": "markdown",
      "metadata": {
        "id": "EEOmCYNHU8Jz"
      },
      "source": [
        "# Making pipeline"
      ]
    },
    {
      "cell_type": "code",
      "metadata": {
        "id": "dPVCjZyTQadb"
      },
      "source": [
        "from sklearn.svm import SVC\n",
        "from sklearn.pipeline import Pipeline\n",
        "from sklearn.linear_model import LogisticRegression\n",
        "from sklearn.neighbors import KNeighborsClassifier\n",
        "from sklearn.metrics import f1_score\n",
        "from sklearn.tree import DecisionTreeClassifier\n",
        "from sklearn.model_selection import train_test_split"
      ],
      "execution_count": 21,
      "outputs": []
    },
    {
      "cell_type": "code",
      "metadata": {
        "id": "_cDKebXLR61r"
      },
      "source": [
        "X_train, X_test, y_train, y_test = train_test_split(X, y, test_size=0.3, random_state=42)"
      ],
      "execution_count": 22,
      "outputs": []
    },
    {
      "cell_type": "code",
      "metadata": {
        "id": "mqPZwPBIRC9u"
      },
      "source": [
        "model = Pipeline([\n",
        "                  ('pca', PCA(0.95)),\n",
        "                  ('clf', KNeighborsClassifier(n_neighbors=1))\n",
        "                ])"
      ],
      "execution_count": 23,
      "outputs": []
    },
    {
      "cell_type": "code",
      "metadata": {
        "colab": {
          "base_uri": "https://localhost:8080/"
        },
        "id": "-vjy-px8RiPt",
        "outputId": "5386f39b-088a-45cc-c6b8-2eceb54cc653"
      },
      "source": [
        "model.fit(X_train, y_train)"
      ],
      "execution_count": 24,
      "outputs": [
        {
          "output_type": "execute_result",
          "data": {
            "text/plain": [
              "Pipeline(memory=None,\n",
              "         steps=[('pca',\n",
              "                 PCA(copy=True, iterated_power='auto', n_components=0.95,\n",
              "                     random_state=None, svd_solver='auto', tol=0.0,\n",
              "                     whiten=False)),\n",
              "                ('clf',\n",
              "                 KNeighborsClassifier(algorithm='auto', leaf_size=30,\n",
              "                                      metric='minkowski', metric_params=None,\n",
              "                                      n_jobs=None, n_neighbors=1, p=2,\n",
              "                                      weights='uniform'))],\n",
              "         verbose=False)"
            ]
          },
          "metadata": {},
          "execution_count": 24
        }
      ]
    },
    {
      "cell_type": "code",
      "metadata": {
        "colab": {
          "base_uri": "https://localhost:8080/"
        },
        "id": "IZLZCRJQSMUy",
        "outputId": "852788d1-eb10-4b29-a26f-0b78a79865ce"
      },
      "source": [
        "model.score(X_train, y_train)"
      ],
      "execution_count": 25,
      "outputs": [
        {
          "output_type": "execute_result",
          "data": {
            "text/plain": [
              "1.0"
            ]
          },
          "metadata": {},
          "execution_count": 25
        }
      ]
    },
    {
      "cell_type": "code",
      "metadata": {
        "id": "lujsB8aMSbPs",
        "colab": {
          "base_uri": "https://localhost:8080/"
        },
        "outputId": "1d81eb61-f8c5-493e-b2b0-1ffbd0b27fb0"
      },
      "source": [
        "model.score(X_test, y_test)"
      ],
      "execution_count": 26,
      "outputs": [
        {
          "output_type": "execute_result",
          "data": {
            "text/plain": [
              "0.9866666666666667"
            ]
          },
          "metadata": {},
          "execution_count": 26
        }
      ]
    },
    {
      "cell_type": "code",
      "metadata": {
        "colab": {
          "base_uri": "https://localhost:8080/"
        },
        "id": "WUSd6o9cVXSl",
        "outputId": "89f09553-c012-45e5-e1c3-47f926302b59"
      },
      "source": [
        "f1_score(y_train, model.predict(X_train))"
      ],
      "execution_count": 27,
      "outputs": [
        {
          "output_type": "execute_result",
          "data": {
            "text/plain": [
              "1.0"
            ]
          },
          "metadata": {},
          "execution_count": 27
        }
      ]
    },
    {
      "cell_type": "code",
      "metadata": {
        "colab": {
          "base_uri": "https://localhost:8080/"
        },
        "id": "sYVdaabgVMc_",
        "outputId": "fc4956b0-3f51-4271-9830-1fa236dc9155"
      },
      "source": [
        "f1_score(y_test, model.predict(X_test))"
      ],
      "execution_count": 28,
      "outputs": [
        {
          "output_type": "execute_result",
          "data": {
            "text/plain": [
              "0.9855072463768116"
            ]
          },
          "metadata": {},
          "execution_count": 28
        }
      ]
    },
    {
      "cell_type": "code",
      "metadata": {
        "id": "RGj6_EMqVPxW"
      },
      "source": [
        ""
      ],
      "execution_count": 28,
      "outputs": []
    }
  ]
}