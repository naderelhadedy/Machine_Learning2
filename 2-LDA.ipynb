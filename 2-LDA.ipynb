{
  "nbformat": 4,
  "nbformat_minor": 0,
  "metadata": {
    "colab": {
      "name": "NADER_ELHADEDY_LDA.ipynb",
      "provenance": [],
      "collapsed_sections": []
    },
    "kernelspec": {
      "name": "python3",
      "display_name": "Python 3"
    },
    "language_info": {
      "name": "python"
    }
  },
  "cells": [
    {
      "cell_type": "markdown",
      "metadata": {
        "id": "OyL5ttDievcN"
      },
      "source": [
        "# Loading packages"
      ]
    },
    {
      "cell_type": "code",
      "metadata": {
        "id": "-LFjglpjtetl"
      },
      "source": [
        "import numpy as np\n",
        "from sklearn import datasets\n",
        "from sklearn.metrics import f1_score\n",
        "from sklearn.linear_model import LogisticRegression\n",
        "from sklearn.model_selection import train_test_split\n",
        "from sklearn.discriminant_analysis import LinearDiscriminantAnalysis"
      ],
      "execution_count": 1,
      "outputs": []
    },
    {
      "cell_type": "markdown",
      "metadata": {
        "id": "dqjXrKbfe1c4"
      },
      "source": [
        "# Implementation of LDA"
      ]
    },
    {
      "cell_type": "code",
      "metadata": {
        "id": "-82xo_8xtiDP"
      },
      "source": [
        "class LDA:\n",
        "    def __init__(self, n_components):\n",
        "        self.n_components = n_components\n",
        "        assert self.n_components != 0, \"No. of components should not be 0!\"\n",
        "        assert type(self.n_components) != float, \"No. of components should be integer!\"\n",
        "        self.linear_discriminants = None\n",
        "        self.mean_overall = None\n",
        "        self.class_labels_count = None\n",
        "        self.train_x, self.train_y = None, None\n",
        "\n",
        "    def fit(self, X, y):\n",
        "        self.train_x, self.train_y = X, y\n",
        "        n_features = X.shape[1]\n",
        "        class_labels = np.unique(y)\n",
        "        self.class_labels_count = len(class_labels)\n",
        "        assert self.n_components <= self.class_labels_count - 1, \"No. of components should not exceed (no. of classes - 1) but exceeded this!\"\n",
        "\n",
        "        # Within class scatter matrix:\n",
        "        # SW = sum((X_c - mean_X_c)^2 )\n",
        "\n",
        "        # Between class scatter:\n",
        "        # SB = sum( n_c * (mean_X_c - mean_overall)^2 )\n",
        "\n",
        "        self.mean_overall = np.mean(X, axis=0)\n",
        "        SW = np.zeros((n_features, n_features))\n",
        "        SB = np.zeros((n_features, n_features))\n",
        "        for c in class_labels:\n",
        "            X_c = X[y == c]\n",
        "            mean_c = np.mean(X_c, axis=0)\n",
        "            # (4, n_c) * (n_c, 4) = (4,4) -> transpose\n",
        "            SW += (X_c - mean_c).T.dot((X_c - mean_c))\n",
        "\n",
        "            # (4, 1) * (1, 4) = (4,4) -> reshape\n",
        "            n_c = X_c.shape[0]\n",
        "            mean_diff = (mean_c - self.mean_overall).reshape(n_features, 1)\n",
        "            SB += n_c * (mean_diff).dot(mean_diff.T)\n",
        "\n",
        "        # Determine SW^-1 * SB\n",
        "        A = np.linalg.inv(SW).dot(SB)\n",
        "        # Get eigenvalues and eigenvectors of SW^-1 * SB\n",
        "        eigenvalues, eigenvectors = np.linalg.eig(A)\n",
        "        # -> eigenvector v = [:,i] column vector, transpose for easier calculations\n",
        "        # sort eigenvalues high to low\n",
        "        eigenvectors = eigenvectors.T\n",
        "        idxs = np.argsort(abs(eigenvalues))[::-1]\n",
        "        eigenvalues = eigenvalues[idxs]\n",
        "        eigenvectors = eigenvectors[idxs]\n",
        "        # store first n eigenvectors\n",
        "        self.linear_discriminants = eigenvectors[0:self.n_components]\n",
        "\n",
        "    def transform(self, X):\n",
        "        # project data\n",
        "        return np.dot(X, self.linear_discriminants.T)\n",
        "\n",
        "    def predict(self, X):\n",
        "      # predict targets\n",
        "\n",
        "      # project the means and take their mean, y(x) = dot(X, Eigen_VECs) + threshold\n",
        "      threshold = np.zeros(self.class_labels_count) # (class_count,1)\n",
        "      w = 0\n",
        "      for feat_mean in self.mean_overall:\n",
        "          w += np.dot(self.linear_discriminants, feat_mean)\n",
        "          threshold = (1/len(self.mean_overall)) * w\n",
        "      \n",
        "      threshold = threshold.reshape(-1,1)\n",
        "\n",
        "      Y = np.zeros((len(X), self.class_labels_count))\n",
        "      preds = np.zeros((len(X)), dtype=int)\n",
        "\n",
        "      for j in range(len(X)):\n",
        "        for i in range(self.n_components):\n",
        "          Y[j, i] = np.dot(self.linear_discriminants[i].T,  X[j]) + threshold[i]\n",
        "        preds[j] = np.argmin(Y[j])\n",
        "      \n",
        "      return preds"
      ],
      "execution_count": 2,
      "outputs": []
    },
    {
      "cell_type": "markdown",
      "metadata": {
        "id": "0yMTogV-e7m4"
      },
      "source": [
        "# Creating dataset"
      ]
    },
    {
      "cell_type": "code",
      "metadata": {
        "id": "IH5DYm9gwhkl"
      },
      "source": [
        "data = datasets.load_iris()"
      ],
      "execution_count": 3,
      "outputs": []
    },
    {
      "cell_type": "code",
      "metadata": {
        "id": "Qqoe7vwKwpcv"
      },
      "source": [
        "X = data.data\n",
        "y = data.target\n",
        "feats = data.target_names"
      ],
      "execution_count": 4,
      "outputs": []
    },
    {
      "cell_type": "code",
      "metadata": {
        "colab": {
          "base_uri": "https://localhost:8080/"
        },
        "id": "jE3PdybgwxKt",
        "outputId": "d5d64213-2fb5-4deb-dd3d-7c1b960c692e"
      },
      "source": [
        "feats"
      ],
      "execution_count": 5,
      "outputs": [
        {
          "output_type": "execute_result",
          "data": {
            "text/plain": [
              "array(['setosa', 'versicolor', 'virginica'], dtype='<U10')"
            ]
          },
          "metadata": {},
          "execution_count": 5
        }
      ]
    },
    {
      "cell_type": "code",
      "metadata": {
        "colab": {
          "base_uri": "https://localhost:8080/"
        },
        "id": "CBxqYAo3wv0l",
        "outputId": "080f9004-e12d-4ffc-ea49-346f29507d49"
      },
      "source": [
        "print(X.shape)\n",
        "print(y.shape)"
      ],
      "execution_count": 6,
      "outputs": [
        {
          "output_type": "stream",
          "name": "stdout",
          "text": [
            "(150, 4)\n",
            "(150,)\n"
          ]
        }
      ]
    },
    {
      "cell_type": "markdown",
      "metadata": {
        "id": "3_BDHksafB06"
      },
      "source": [
        "# Split dataset"
      ]
    },
    {
      "cell_type": "code",
      "metadata": {
        "id": "3OnbVgefxow5"
      },
      "source": [
        "X_train, X_test, y_train, y_test = train_test_split(X, y, test_size=0.2, random_state=42)\n",
        "test_x, test_y = X_test.copy(), y_test.copy()"
      ],
      "execution_count": 7,
      "outputs": []
    },
    {
      "cell_type": "code",
      "metadata": {
        "colab": {
          "base_uri": "https://localhost:8080/"
        },
        "id": "E1zTzktd8mXj",
        "outputId": "22f063e7-7913-4b22-a6c9-373876c72163"
      },
      "source": [
        "set(y_train)"
      ],
      "execution_count": 8,
      "outputs": [
        {
          "output_type": "execute_result",
          "data": {
            "text/plain": [
              "{0, 1, 2}"
            ]
          },
          "metadata": {},
          "execution_count": 8
        }
      ]
    },
    {
      "cell_type": "code",
      "metadata": {
        "colab": {
          "base_uri": "https://localhost:8080/"
        },
        "id": "jDvv9nMz9Pp3",
        "outputId": "b8e9db32-6d6e-4747-d4f2-22344c454fac"
      },
      "source": [
        "set(y_test)"
      ],
      "execution_count": 9,
      "outputs": [
        {
          "output_type": "execute_result",
          "data": {
            "text/plain": [
              "{0, 1, 2}"
            ]
          },
          "metadata": {},
          "execution_count": 9
        }
      ]
    },
    {
      "cell_type": "markdown",
      "metadata": {
        "id": "d7rHrgg0fl0M"
      },
      "source": [
        "# Applying LDA"
      ]
    },
    {
      "cell_type": "code",
      "metadata": {
        "id": "ZmTCqiGtynfU"
      },
      "source": [
        "lda = LDA(2)\n",
        "lda.fit(X_train, y_train)"
      ],
      "execution_count": 10,
      "outputs": []
    },
    {
      "cell_type": "markdown",
      "metadata": {
        "id": "DnQNEf0jf0JV"
      },
      "source": [
        "> ## Predict with LDA"
      ]
    },
    {
      "cell_type": "code",
      "metadata": {
        "colab": {
          "base_uri": "https://localhost:8080/"
        },
        "id": "tGSs7_bjZTOG",
        "outputId": "2dcba4ca-3afe-455f-d3b8-1b2c2db4e4ef"
      },
      "source": [
        "pred = lda.predict(X_test)\n",
        "pred"
      ],
      "execution_count": 11,
      "outputs": [
        {
          "output_type": "execute_result",
          "data": {
            "text/plain": [
              "array([0, 1, 0, 0, 0, 1, 1, 0, 0, 0, 0, 2, 1, 2, 1, 1, 0, 0, 0, 0, 1, 0,\n",
              "       1, 0, 0, 0, 0, 0, 1, 2])"
            ]
          },
          "metadata": {},
          "execution_count": 11
        }
      ]
    },
    {
      "cell_type": "code",
      "metadata": {
        "colab": {
          "base_uri": "https://localhost:8080/"
        },
        "id": "7ym2kXNBeCEc",
        "outputId": "11fbd3d1-0f85-4470-b541-7463dcdb6b98"
      },
      "source": [
        "(pred == y_test).sum() / len(y_test) * 100"
      ],
      "execution_count": 12,
      "outputs": [
        {
          "output_type": "execute_result",
          "data": {
            "text/plain": [
              "6.666666666666667"
            ]
          },
          "metadata": {},
          "execution_count": 12
        }
      ]
    },
    {
      "cell_type": "markdown",
      "metadata": {
        "id": "rV31auwXf45x"
      },
      "source": [
        "> ## Transform with LDA"
      ]
    },
    {
      "cell_type": "code",
      "metadata": {
        "id": "C5TOxiK3w4yf"
      },
      "source": [
        "X_train = lda.transform(X_train)\n",
        "X_test = lda.transform(X_test)"
      ],
      "execution_count": 13,
      "outputs": []
    },
    {
      "cell_type": "code",
      "metadata": {
        "colab": {
          "base_uri": "https://localhost:8080/"
        },
        "id": "z3xHpMT2xPd6",
        "outputId": "21d471ae-58d6-49a5-c7d9-02cf1eb30508"
      },
      "source": [
        "X_train.shape"
      ],
      "execution_count": 14,
      "outputs": [
        {
          "output_type": "execute_result",
          "data": {
            "text/plain": [
              "(120, 2)"
            ]
          },
          "metadata": {},
          "execution_count": 14
        }
      ]
    },
    {
      "cell_type": "code",
      "metadata": {
        "colab": {
          "base_uri": "https://localhost:8080/"
        },
        "id": "7Eq1njb_9jc8",
        "outputId": "db3d15b5-de32-445a-866e-d8bf46ad8b1f"
      },
      "source": [
        "X_test.shape"
      ],
      "execution_count": 15,
      "outputs": [
        {
          "output_type": "execute_result",
          "data": {
            "text/plain": [
              "(30, 2)"
            ]
          },
          "metadata": {},
          "execution_count": 15
        }
      ]
    },
    {
      "cell_type": "markdown",
      "metadata": {
        "id": "7TtDA379YXvu"
      },
      "source": [
        "---"
      ]
    },
    {
      "cell_type": "markdown",
      "metadata": {
        "id": "frIX-5krfSHz"
      },
      "source": [
        "# Using Logistic Regression"
      ]
    },
    {
      "cell_type": "code",
      "metadata": {
        "id": "Kn17q4mfx4GX"
      },
      "source": [
        "model = LogisticRegression(C=0.01, random_state=42)"
      ],
      "execution_count": 16,
      "outputs": []
    },
    {
      "cell_type": "code",
      "metadata": {
        "colab": {
          "base_uri": "https://localhost:8080/"
        },
        "id": "lgNqSbMvx-QJ",
        "outputId": "a23e94db-1908-4fe9-ed12-1b33f2ab3e6a"
      },
      "source": [
        "model.fit(X_train, y_train)"
      ],
      "execution_count": 17,
      "outputs": [
        {
          "output_type": "execute_result",
          "data": {
            "text/plain": [
              "LogisticRegression(C=0.01, class_weight=None, dual=False, fit_intercept=True,\n",
              "                   intercept_scaling=1, l1_ratio=None, max_iter=100,\n",
              "                   multi_class='auto', n_jobs=None, penalty='l2',\n",
              "                   random_state=42, solver='lbfgs', tol=0.0001, verbose=0,\n",
              "                   warm_start=False)"
            ]
          },
          "metadata": {},
          "execution_count": 17
        }
      ]
    },
    {
      "cell_type": "code",
      "metadata": {
        "colab": {
          "base_uri": "https://localhost:8080/"
        },
        "id": "Wgpgg4S8yG6Q",
        "outputId": "006ae3de-3e1f-45e0-a2ac-6681367e0765"
      },
      "source": [
        "model.score(X_train, y_train)"
      ],
      "execution_count": 18,
      "outputs": [
        {
          "output_type": "execute_result",
          "data": {
            "text/plain": [
              "0.9416666666666667"
            ]
          },
          "metadata": {},
          "execution_count": 18
        }
      ]
    },
    {
      "cell_type": "code",
      "metadata": {
        "colab": {
          "base_uri": "https://localhost:8080/"
        },
        "id": "gdAz00IfyJlG",
        "outputId": "168729ce-29ba-4f97-8c13-c0427b45fcfa"
      },
      "source": [
        "model.score(X_test, y_test)"
      ],
      "execution_count": 19,
      "outputs": [
        {
          "output_type": "execute_result",
          "data": {
            "text/plain": [
              "0.9"
            ]
          },
          "metadata": {},
          "execution_count": 19
        }
      ]
    },
    {
      "cell_type": "code",
      "metadata": {
        "id": "puFC2TEYyNRx",
        "colab": {
          "base_uri": "https://localhost:8080/"
        },
        "outputId": "482273b2-262f-4b8e-aebc-959dff75a522"
      },
      "source": [
        "f1_score(y_train, model.predict(X_train), average=None)"
      ],
      "execution_count": 20,
      "outputs": [
        {
          "output_type": "execute_result",
          "data": {
            "text/plain": [
              "array([1.        , 0.90666667, 0.91764706])"
            ]
          },
          "metadata": {},
          "execution_count": 20
        }
      ]
    },
    {
      "cell_type": "code",
      "metadata": {
        "colab": {
          "base_uri": "https://localhost:8080/"
        },
        "id": "xfwEQZdDrrRL",
        "outputId": "02aa70a7-da16-45f3-c2d0-3f484868cc83"
      },
      "source": [
        "f1_score(y_test, model.predict(X_test), average=None)"
      ],
      "execution_count": 21,
      "outputs": [
        {
          "output_type": "execute_result",
          "data": {
            "text/plain": [
              "array([1.  , 0.8 , 0.88])"
            ]
          },
          "metadata": {},
          "execution_count": 21
        }
      ]
    },
    {
      "cell_type": "markdown",
      "metadata": {
        "id": "23Va33bmT8Uk"
      },
      "source": [
        "---"
      ]
    },
    {
      "cell_type": "markdown",
      "metadata": {
        "id": "o6BmcZWsXwEz"
      },
      "source": [
        "# Using LDA from sklearn"
      ]
    },
    {
      "cell_type": "code",
      "metadata": {
        "id": "YUAV7XnFaA0X",
        "colab": {
          "base_uri": "https://localhost:8080/"
        },
        "outputId": "32540288-8433-4425-c14c-4580fe32d719"
      },
      "source": [
        "ld = LinearDiscriminantAnalysis(n_components=2, solver='svd', tol=0.5)\n",
        "ld.fit(lda.train_x, lda.train_y)"
      ],
      "execution_count": 22,
      "outputs": [
        {
          "output_type": "execute_result",
          "data": {
            "text/plain": [
              "LinearDiscriminantAnalysis(n_components=2, priors=None, shrinkage=None,\n",
              "                           solver='svd', store_covariance=False, tol=0.5)"
            ]
          },
          "metadata": {},
          "execution_count": 22
        }
      ]
    },
    {
      "cell_type": "code",
      "metadata": {
        "colab": {
          "base_uri": "https://localhost:8080/"
        },
        "id": "JIEcTpZhUKaV",
        "outputId": "c68c5273-c185-41e2-ba29-ab14873c0b67"
      },
      "source": [
        "(ld.predict(lda.train_x) == lda.train_y).sum() / len(lda.train_y)"
      ],
      "execution_count": 23,
      "outputs": [
        {
          "output_type": "execute_result",
          "data": {
            "text/plain": [
              "0.975"
            ]
          },
          "metadata": {},
          "execution_count": 23
        }
      ]
    },
    {
      "cell_type": "code",
      "metadata": {
        "colab": {
          "base_uri": "https://localhost:8080/"
        },
        "id": "GrT0NX8MU0fj",
        "outputId": "83a7db57-5581-4c4d-a57e-84a65ea98644"
      },
      "source": [
        "(ld.predict(test_x) == test_y).sum() / len(test_y)"
      ],
      "execution_count": 24,
      "outputs": [
        {
          "output_type": "execute_result",
          "data": {
            "text/plain": [
              "0.9666666666666667"
            ]
          },
          "metadata": {},
          "execution_count": 24
        }
      ]
    },
    {
      "cell_type": "code",
      "metadata": {
        "id": "j73f4I8CU7nI"
      },
      "source": [
        ""
      ],
      "execution_count": 24,
      "outputs": []
    }
  ]
}